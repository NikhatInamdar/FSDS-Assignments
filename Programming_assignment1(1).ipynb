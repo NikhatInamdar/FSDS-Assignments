{
 "cells": [
  {
   "cell_type": "code",
   "execution_count": null,
   "id": "5acfbc08",
   "metadata": {},
   "outputs": [],
   "source": [
    "1."
   ]
  },
  {
   "cell_type": "code",
   "execution_count": 1,
   "id": "1df36cf1",
   "metadata": {},
   "outputs": [
    {
     "name": "stdout",
     "output_type": "stream",
     "text": [
      "Hello Python\n"
     ]
    }
   ],
   "source": [
    "print(\"Hello Python\")"
   ]
  },
  {
   "cell_type": "code",
   "execution_count": null,
   "id": "d69fa6b4",
   "metadata": {},
   "outputs": [],
   "source": [
    "2."
   ]
  },
  {
   "cell_type": "code",
   "execution_count": 1,
   "id": "f060d96b",
   "metadata": {},
   "outputs": [
    {
     "name": "stdout",
     "output_type": "stream",
     "text": [
      "Enter the first number: 10.1\n",
      "Enter the second number: 20.1\n",
      "The sum of 10.1 and 20.1 is 30.200000000000003\n",
      "10.1 divided by 20.1 is 0.5024875621890547\n"
     ]
    }
   ],
   "source": [
    "num1 = float(input(\"Enter the first number: \"))\n",
    "num2 = float(input(\"Enter the second number: \"))\n",
    "\n",
    "result_add = num1 + num2\n",
    "result_div = num1 / num2\n",
    "\n",
    "print(\"The sum of\", num1, \"and\", num2, \"is\", result_add)\n",
    "print(num1, \"divided by\", num2, \"is\", result_div)"
   ]
  },
  {
   "cell_type": "code",
   "execution_count": null,
   "id": "9f74a66a",
   "metadata": {},
   "outputs": [],
   "source": [
    "3.Write a Python program to find the area of a triangle?"
   ]
  },
  {
   "cell_type": "code",
   "execution_count": 2,
   "id": "c2ba1f92",
   "metadata": {},
   "outputs": [
    {
     "name": "stdout",
     "output_type": "stream",
     "text": [
      "Enter the base of the triangle: 50\n",
      "Enter the height of the triangle: 80\n",
      "The area of the triangle is 2000.0\n"
     ]
    }
   ],
   "source": [
    "base =float(input(\"Enter the base of the triangle: \"))\n",
    "height =float(input(\"Enter the height of the triangle: \"))\n",
    "\n",
    "area = 0.5 * base * height\n",
    "\n",
    "# Print the result\n",
    "print(\"The area of the triangle is\", area)"
   ]
  },
  {
   "cell_type": "code",
   "execution_count": null,
   "id": "a566db20",
   "metadata": {},
   "outputs": [],
   "source": [
    "4."
   ]
  },
  {
   "cell_type": "code",
   "execution_count": 3,
   "id": "0912faf3",
   "metadata": {},
   "outputs": [
    {
     "name": "stdout",
     "output_type": "stream",
     "text": [
      "Enter the first number: 10.1\n",
      "Enter the second number: 20.1\n",
      "Before swapping:\n",
      "num1 = 10.1\n",
      "num2 = 20.1\n",
      "After swapping:\n",
      "num1 = 20.1\n",
      "num2 = 10.1\n"
     ]
    }
   ],
   "source": [
    "# Ask the user to enter two numbers\n",
    "num1 = float(input(\"Enter the first number: \"))\n",
    "num2 = float(input(\"Enter the second number: \"))\n",
    "\n",
    "# Print the original values of the variables\n",
    "print(\"Before swapping:\")\n",
    "print(\"num1 =\", num1)\n",
    "print(\"num2 =\", num2)\n",
    "\n",
    "# Swap the values of the variables\n",
    "temp = num1\n",
    "num1 = num2\n",
    "num2 = temp\n",
    "\n",
    "# Print the swapped values of the variables\n",
    "print(\"After swapping:\")\n",
    "print(\"num1 =\", num1)\n",
    "print(\"num2 =\", num2)"
   ]
  },
  {
   "cell_type": "code",
   "execution_count": null,
   "id": "b4ea3c8f",
   "metadata": {},
   "outputs": [],
   "source": [
    "5."
   ]
  },
  {
   "cell_type": "code",
   "execution_count": 6,
   "id": "8679bfe5",
   "metadata": {},
   "outputs": [
    {
     "name": "stdout",
     "output_type": "stream",
     "text": [
      "Random number: 19\n"
     ]
    }
   ],
   "source": [
    "import random\n",
    "\n",
    "# Generate a random number between 0 and 100\n",
    "random_num = random.randint(0, 100)\n",
    "\n",
    "# Print the random number\n",
    "print(\"Random number:\", random_num)"
   ]
  },
  {
   "cell_type": "code",
   "execution_count": null,
   "id": "5f5130d0",
   "metadata": {},
   "outputs": [],
   "source": []
  }
 ],
 "metadata": {
  "kernelspec": {
   "display_name": "Python 3",
   "language": "python",
   "name": "python3"
  },
  "language_info": {
   "codemirror_mode": {
    "name": "ipython",
    "version": 3
   },
   "file_extension": ".py",
   "mimetype": "text/x-python",
   "name": "python",
   "nbconvert_exporter": "python",
   "pygments_lexer": "ipython3",
   "version": "3.8.8"
  }
 },
 "nbformat": 4,
 "nbformat_minor": 5
}

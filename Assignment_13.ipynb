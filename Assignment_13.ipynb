{
 "cells": [
  {
   "cell_type": "code",
   "execution_count": null,
   "id": "d793808a",
   "metadata": {},
   "outputs": [],
   "source": [
    "1."
   ]
  },
  {
   "cell_type": "markdown",
   "id": "4483d1ea",
   "metadata": {},
   "source": [
    "The Advantages of Excel over CSV are:\n",
    "\n",
    "Excel (XLS and XLSX) file formats are better for storing and analysing complex data.\n",
    "An Excel not only stores data but can also do operations on the data using macros, formulas etc\n",
    "CSV files are plain-text files, Does not contain formatting, formulas, macros, etc. It is also known as flat files"
   ]
  },
  {
   "cell_type": "code",
   "execution_count": null,
   "id": "e59ad872",
   "metadata": {},
   "outputs": [],
   "source": [
    "2.What do you pass to csv.reader() and csv.writer() to create reader and writer objects?"
   ]
  },
  {
   "cell_type": "code",
   "execution_count": null,
   "id": "5287141c",
   "metadata": {},
   "outputs": [],
   "source": [
    "import csv\n",
    "with open('text.csv','r') as file:\n",
    "    csv_file = csv.reader(file,delimiter=',')\n",
    "    for ele in csv_file:\n",
    "        print(ele)"
   ]
  },
  {
   "cell_type": "code",
   "execution_count": null,
   "id": "2626bdcb",
   "metadata": {},
   "outputs": [],
   "source": [
    "3"
   ]
  },
  {
   "cell_type": "markdown",
   "id": "51446f92",
   "metadata": {},
   "source": [
    " For csv.reader(iterable_file_object), the file objects needed to be opened in read mode mode='r' Whereas for csv.writer(iterable_file_object) the file objects needed to be opened in write mode mode='w'"
   ]
  },
  {
   "cell_type": "code",
   "execution_count": null,
   "id": "fa886bcb",
   "metadata": {},
   "outputs": [],
   "source": [
    "4."
   ]
  },
  {
   "cell_type": "markdown",
   "id": "39ff07e2",
   "metadata": {},
   "source": [
    " csv.writer class provides two methods for writing to CSV. They are writerow() and writerows(). writerow() method writes a single row at a time. Whereas writerows() method is used to write multiple rows at a time."
   ]
  },
  {
   "cell_type": "code",
   "execution_count": null,
   "id": "a77d3b4a",
   "metadata": {},
   "outputs": [],
   "source": [
    "# Example Program\n",
    "import csv      \n",
    "fields = ['Name', 'Branch', 'Year', 'CGPA'] #column names \n",
    "rows = [ \n",
    "            ['Nikhat', 'COE', '2', '9.0'],  # data rows of csv file \n",
    "            ['Kalyani', 'COE', '2', '9.1'], \n",
    "            ['Sakshi', 'IT', '2', '9.1']\n",
    "       ] \n",
    "with open(\"university_records.csv\", 'w') as csvfile: \n",
    "    csvwriter = csv.writer(csvfile) # creating a csv writer object \n",
    "    csvwriter.writerow(fields) # writing the fields \n",
    "    csvwriter.writerows(rows) # writing the data rows "
   ]
  },
  {
   "cell_type": "code",
   "execution_count": null,
   "id": "a09696a8",
   "metadata": {},
   "outputs": [],
   "source": [
    "5."
   ]
  },
  {
   "cell_type": "markdown",
   "id": "279f630a",
   "metadata": {},
   "source": [
    " Lets take the example of a csv file:\n",
    "First Name, Last Name, Age\n",
    "Nikhat, Inamdar, 27\n",
    "Kalyani, Pande, 26\n",
    "Here ',' is Delimiter. We can use any Character as per our needs if required. Similarly Line Terminator comes at end of line by default it is newline and can be changed accourding to Requirement."
   ]
  },
  {
   "cell_type": "code",
   "execution_count": null,
   "id": "bca2d0e4",
   "metadata": {},
   "outputs": [],
   "source": [
    "6"
   ]
  },
  {
   "cell_type": "code",
   "execution_count": 2,
   "id": "2a2dcaad",
   "metadata": {},
   "outputs": [
    {
     "name": "stdout",
     "output_type": "stream",
     "text": [
      "{\n",
      "    \"Name\": \"Nikhat Inamdar\",\n",
      "    \"Qualification\": \"Bachelor of Computer Science\",\n",
      "    \"Stream\": \"Computer Science\"\n",
      "}\n",
      "Type of my_details_json is <class 'str'>\n",
      "{'Name': 'Nikhat Inamdar', 'Qualification': 'Bachelor of Computer Science', 'Stream': 'Computer Science'}\n",
      "Type of my_details is <class 'dict'>\n"
     ]
    }
   ],
   "source": [
    "# Example of json.loads() method\n",
    "import json\n",
    "my_details_json ='''{\n",
    "    \"Name\": \"Nikhat Inamdar\",\n",
    "    \"Qualification\": \"Bachelor of Computer Science\",\n",
    "    \"Stream\": \"Computer Science\"\n",
    "}'''\n",
    "print(my_details_json)\n",
    "print(f'Type of my_details_json is {type(my_details_json)}')\n",
    "my_details = json.loads(my_details_json)\n",
    "print(my_details)\n",
    "print(f'Type of my_details is {type(my_details)}')"
   ]
  },
  {
   "cell_type": "code",
   "execution_count": null,
   "id": "456048d3",
   "metadata": {},
   "outputs": [],
   "source": [
    "7."
   ]
  },
  {
   "cell_type": "code",
   "execution_count": null,
   "id": "72c93091",
   "metadata": {},
   "outputs": [],
   "source": [
    "dumps() method takes a python data structure and returns a string of JSON data"
   ]
  },
  {
   "cell_type": "code",
   "execution_count": 3,
   "id": "025a8adb",
   "metadata": {},
   "outputs": [
    {
     "name": "stdout",
     "output_type": "stream",
     "text": [
      "{'Name': 'Kalyani Pande', 'Stream': 'Computer Science', 'Qualification': 'Bachelor of Engineering'}\n",
      "Type of my_details is <class 'dict'>\n",
      "{\n",
      "    \"Name\": \"Kalyani Pande\",\n",
      "    \"Qualification\": \"Bachelor of Engineering\",\n",
      "    \"Stream\": \"Computer Science\"\n",
      "}\n",
      "Type of my_details_json is <class 'str'>\n"
     ]
    }
   ],
   "source": [
    "# Example of json.dumps() method\n",
    "import json\n",
    "my_details = {\n",
    "    'Name':'Kalyani Pande',\n",
    "    'Stream':'Computer Science',\n",
    "    'Qualification':'Bachelor of Engineering'\n",
    "}\n",
    "print(my_details)\n",
    "print(f'Type of my_details is {type(my_details)}')\n",
    "my_details_json = json.dumps(my_details, indent=4, sort_keys=True)\n",
    "print(my_details_json)\n",
    "print(f'Type of my_details_json is {type(my_details_json)}')"
   ]
  }
 ],
 "metadata": {
  "kernelspec": {
   "display_name": "Python 3",
   "language": "python",
   "name": "python3"
  },
  "language_info": {
   "codemirror_mode": {
    "name": "ipython",
    "version": 3
   },
   "file_extension": ".py",
   "mimetype": "text/x-python",
   "name": "python",
   "nbconvert_exporter": "python",
   "pygments_lexer": "ipython3",
   "version": "3.8.8"
  }
 },
 "nbformat": 4,
 "nbformat_minor": 5
}

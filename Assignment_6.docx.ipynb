{
 "cells": [
  {
   "cell_type": "markdown",
   "id": "a0f9f67c",
   "metadata": {},
   "source": [
    "# Assignment-6.docx"
   ]
  },
  {
   "cell_type": "markdown",
   "id": "ab2e82b1",
   "metadata": {},
   "source": [
    "1. What are escape characters, and how do you use them?"
   ]
  },
  {
   "cell_type": "code",
   "execution_count": null,
   "id": "8b3be922",
   "metadata": {},
   "outputs": [],
   "source": [
    "To insert characters that are illegal in a string, use an escape character.\n",
    "An escape character is a backslash \\ followed by the character you want to \n",
    "insert.\n",
    "An example of an illegal character is a double quote inside a string that \n",
    "issurrounded by double quotes:\n",
    "Example\n",
    "\n",
    "You will get an error if you use double quotes inside a string that is \n",
    "surrounded by double quotes:\n",
    "\n",
    "#txt = \"we are going to join  \"Ineuron\" class.\"\n",
    "\n",
    "To fix this problem, use the escape character \\\":\n",
    "\n",
    "txt = \"we are going to join \"\\\"Ineuron\\\" class.\""
   ]
  },
  {
   "cell_type": "code",
   "execution_count": 4,
   "id": "134cba98",
   "metadata": {},
   "outputs": [
    {
     "name": "stdout",
     "output_type": "stream",
     "text": [
      "my name is\n"
     ]
    }
   ],
   "source": [
    "print(\"my \\\n",
    "name \\\n",
    "is\")"
   ]
  },
  {
   "cell_type": "markdown",
   "id": "311ad473",
   "metadata": {},
   "source": [
    "2.What do the escape characters n and t stand for?"
   ]
  },
  {
   "cell_type": "code",
   "execution_count": null,
   "id": "92837222",
   "metadata": {},
   "outputs": [],
   "source": [
    "\"\\t\" is a tab, \"\\n\" is a newline"
   ]
  },
  {
   "cell_type": "markdown",
   "id": "fe225327",
   "metadata": {},
   "source": [
    "3.What is the way to include backslash characters in a string?"
   ]
  },
  {
   "cell_type": "code",
   "execution_count": 5,
   "id": "5835e8d4",
   "metadata": {},
   "outputs": [
    {
     "name": "stdout",
     "output_type": "stream",
     "text": [
      "its a back slash \\ in a line\n"
     ]
    }
   ],
   "source": [
    "print('its a back slash \\ in a line')\n"
   ]
  },
  {
   "cell_type": "markdown",
   "id": "5196929d",
   "metadata": {},
   "source": [
    "4.The string \"Howl's Moving Castle\" is a correct value. Why isn't the single \n",
    "quote character in the word Howl's not escaped a problem?"
   ]
  },
  {
   "cell_type": "code",
   "execution_count": null,
   "id": "a347a515",
   "metadata": {},
   "outputs": [],
   "source": [
    "#Answer:-\n",
    "The single quote in Howl's is fine because you've used double quotes to mark \n",
    "the beginning and end of the string. like wise we can use double quotes in \n",
    "with single quotes"
   ]
  },
  {
   "cell_type": "code",
   "execution_count": 6,
   "id": "07298e79",
   "metadata": {},
   "outputs": [
    {
     "name": "stdout",
     "output_type": "stream",
     "text": [
      "HowI's Moving Castle\n"
     ]
    }
   ],
   "source": [
    "print(\"HowI's Moving Castle\")"
   ]
  },
  {
   "cell_type": "code",
   "execution_count": 8,
   "id": "2898149f",
   "metadata": {},
   "outputs": [
    {
     "name": "stdout",
     "output_type": "stream",
     "text": [
      "today is my class of \"Ineuron\" intelligence\n"
     ]
    }
   ],
   "source": [
    "# like wise we can use double quote in side single quote\n",
    "print('today is my class of \"Ineuron\" intelligence')\n",
    "    "
   ]
  },
  {
   "cell_type": "markdown",
   "id": "2c2c2a80",
   "metadata": {},
   "source": [
    "5.How do you write a string of newlines if you don't want to use the n character?"
   ]
  },
  {
   "cell_type": "code",
   "execution_count": 13,
   "id": "697082c2",
   "metadata": {},
   "outputs": [
    {
     "name": "stdout",
     "output_type": "stream",
     "text": [
      "Hello Word\n"
     ]
    }
   ],
   "source": [
    "print(\"Hello\",end=\" \")\n",
    "print(\"Word\")"
   ]
  },
  {
   "cell_type": "markdown",
   "id": "18d77efd",
   "metadata": {},
   "source": [
    "6.What are the values of the given expressions?\n",
    "'Hello, world!'[1] 'Hello, world!'[0:5] 'Hello, world!'[:5] 'Hello, world!'[3:]"
   ]
  },
  {
   "cell_type": "code",
   "execution_count": 15,
   "id": "cf076a63",
   "metadata": {},
   "outputs": [
    {
     "data": {
      "text/plain": [
       "'e'"
      ]
     },
     "execution_count": 15,
     "metadata": {},
     "output_type": "execute_result"
    }
   ],
   "source": [
    "'Hello,world!'[1]"
   ]
  },
  {
   "cell_type": "code",
   "execution_count": 18,
   "id": "29dced71",
   "metadata": {},
   "outputs": [
    {
     "data": {
      "text/plain": [
       "'Hello'"
      ]
     },
     "execution_count": 18,
     "metadata": {},
     "output_type": "execute_result"
    }
   ],
   "source": [
    "'Hello, world!'[0:5]"
   ]
  },
  {
   "cell_type": "code",
   "execution_count": 19,
   "id": "86ed158b",
   "metadata": {},
   "outputs": [
    {
     "data": {
      "text/plain": [
       "'Hello'"
      ]
     },
     "execution_count": 19,
     "metadata": {},
     "output_type": "execute_result"
    }
   ],
   "source": [
    "'Hello, world!'[:5]"
   ]
  },
  {
   "cell_type": "code",
   "execution_count": 20,
   "id": "3b761a7b",
   "metadata": {},
   "outputs": [
    {
     "data": {
      "text/plain": [
       "'lo, world!'"
      ]
     },
     "execution_count": 20,
     "metadata": {},
     "output_type": "execute_result"
    }
   ],
   "source": [
    "'Hello, world!'[3:]\n",
    "\n"
   ]
  },
  {
   "cell_type": "markdown",
   "id": "d5e225cc",
   "metadata": {},
   "source": [
    "7.What are the values of the following expressions?\n",
    "'Hello'.upper() 'Hello'.upper().isupper() 'Hello'.upper().lower()"
   ]
  },
  {
   "cell_type": "code",
   "execution_count": 26,
   "id": "56a61d9d",
   "metadata": {},
   "outputs": [
    {
     "data": {
      "text/plain": [
       "'HELLO'"
      ]
     },
     "execution_count": 26,
     "metadata": {},
     "output_type": "execute_result"
    }
   ],
   "source": [
    "# Answer:-\n",
    "'Hello'.upper()"
   ]
  },
  {
   "cell_type": "code",
   "execution_count": 27,
   "id": "7fefc698",
   "metadata": {},
   "outputs": [
    {
     "data": {
      "text/plain": [
       "True"
      ]
     },
     "execution_count": 27,
     "metadata": {},
     "output_type": "execute_result"
    }
   ],
   "source": [
    "'Hello'.upper().isupper()"
   ]
  },
  {
   "cell_type": "code",
   "execution_count": 28,
   "id": "98693b23",
   "metadata": {},
   "outputs": [
    {
     "data": {
      "text/plain": [
       "False"
      ]
     },
     "execution_count": 28,
     "metadata": {},
     "output_type": "execute_result"
    }
   ],
   "source": [
    "'Hello'.upper().islower()"
   ]
  },
  {
   "cell_type": "markdown",
   "id": "73135f16",
   "metadata": {},
   "source": [
    "8.What are the values of the following expressions?\n",
    "'Remember, remember, the fifth of July.'.split() '-'.join('There can only one.'.split())"
   ]
  },
  {
   "cell_type": "code",
   "execution_count": 30,
   "id": "a637b0f9",
   "metadata": {},
   "outputs": [
    {
     "data": {
      "text/plain": [
       "['Remember,', 'remember,', 'the', 'fifth', 'of', 'July.']"
      ]
     },
     "execution_count": 30,
     "metadata": {},
     "output_type": "execute_result"
    }
   ],
   "source": [
    "'Remember, remember, the fifth of July.'.split()"
   ]
  },
  {
   "cell_type": "code",
   "execution_count": 31,
   "id": "4473bf87",
   "metadata": {},
   "outputs": [
    {
     "data": {
      "text/plain": [
       "'There-can-only-one.'"
      ]
     },
     "execution_count": 31,
     "metadata": {},
     "output_type": "execute_result"
    }
   ],
   "source": [
    "'-'.join('There can only one.'.split())"
   ]
  },
  {
   "cell_type": "markdown",
   "id": "55698c10",
   "metadata": {},
   "source": [
    "9.What are the methods for right-justifying, left-justifying, and centering a string?"
   ]
  },
  {
   "cell_type": "code",
   "execution_count": 38,
   "id": "93c91268",
   "metadata": {},
   "outputs": [
    {
     "data": {
      "text/plain": [
       "'**************Nikhat'"
      ]
     },
     "execution_count": 38,
     "metadata": {},
     "output_type": "execute_result"
    }
   ],
   "source": [
    "# right justified\n",
    "str = \"Nikhat\"\n",
    "str.rjust(20,\"*\")"
   ]
  },
  {
   "cell_type": "code",
   "execution_count": 39,
   "id": "0c19cbf5",
   "metadata": {},
   "outputs": [
    {
     "data": {
      "text/plain": [
       "'Nikhat**********************************'"
      ]
     },
     "execution_count": 39,
     "metadata": {},
     "output_type": "execute_result"
    }
   ],
   "source": [
    "# left justified\n",
    "str =\"Nikhat\"\n",
    "str.ljust(40,\"*\")"
   ]
  },
  {
   "cell_type": "code",
   "execution_count": 41,
   "id": "b5b8c18f",
   "metadata": {},
   "outputs": [
    {
     "data": {
      "text/plain": [
       "'*****************Nikhat*****************'"
      ]
     },
     "execution_count": 41,
     "metadata": {},
     "output_type": "execute_result"
    }
   ],
   "source": [
    "# center justified\n",
    "str =\"Nikhat\"\n",
    "str.center(40,'*')"
   ]
  },
  {
   "cell_type": "code",
   "execution_count": null,
   "id": "48bad4c2",
   "metadata": {},
   "outputs": [],
   "source": [
    "10."
   ]
  },
  {
   "cell_type": "code",
   "execution_count": null,
   "id": "2405a2c6",
   "metadata": {},
   "outputs": [],
   "source": [
    "#Answer:-\n",
    "Use the .strip() method to remove whitespace and characters from\n",
    "the beginning and the end of a string.\n",
    "Use the .lstrip() method to remove whitespace and characters only\n",
    "from the beginning of a string."
   ]
  },
  {
   "cell_type": "code",
   "execution_count": 45,
   "id": "a3d07b02",
   "metadata": {},
   "outputs": [
    {
     "data": {
      "text/plain": [
       "'Ineuron Intelligence    '"
      ]
     },
     "execution_count": 45,
     "metadata": {},
     "output_type": "execute_result"
    }
   ],
   "source": [
    "str =\"    Ineuron Intelligence    \"\n",
    "str.lstrip()\n",
    "     "
   ]
  },
  {
   "cell_type": "code",
   "execution_count": 44,
   "id": "8c31807c",
   "metadata": {},
   "outputs": [
    {
     "data": {
      "text/plain": [
       "'    Ineuron Intelligence'"
      ]
     },
     "execution_count": 44,
     "metadata": {},
     "output_type": "execute_result"
    }
   ],
   "source": [
    "str =\"    Ineuron Intelligence    \"\n",
    "str.rstrip()\n",
    "     "
   ]
  },
  {
   "cell_type": "code",
   "execution_count": null,
   "id": "3b3eb36d",
   "metadata": {},
   "outputs": [],
   "source": [
    "****************************************************************************************************"
   ]
  }
 ],
 "metadata": {
  "kernelspec": {
   "display_name": "Python 3",
   "language": "python",
   "name": "python3"
  },
  "language_info": {
   "codemirror_mode": {
    "name": "ipython",
    "version": 3
   },
   "file_extension": ".py",
   "mimetype": "text/x-python",
   "name": "python",
   "nbconvert_exporter": "python",
   "pygments_lexer": "ipython3",
   "version": "3.8.8"
  }
 },
 "nbformat": 4,
 "nbformat_minor": 5
}

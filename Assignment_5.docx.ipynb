{
 "cells": [
  {
   "cell_type": "markdown",
   "id": "dcfeecde",
   "metadata": {},
   "source": [
    "# Assignment_5 Answers"
   ]
  },
  {
   "cell_type": "markdown",
   "id": "93f44252",
   "metadata": {},
   "source": [
    "1. What does an empty dictionary&#39;s code look like?"
   ]
  },
  {
   "cell_type": "markdown",
   "id": "1cf959e8",
   "metadata": {},
   "source": [
    "answer:-\n",
    "An empty dictionary is often represented by two empty curly brackets\n",
    "d = {} or d = dict()"
   ]
  },
  {
   "cell_type": "markdown",
   "id": "e945d243",
   "metadata": {},
   "source": [
    "2.what is the value of dictionary value with key 'foo' and the value 42 ?\n",
    "\n",
    "Ans: {'foo':42}"
   ]
  },
  {
   "cell_type": "markdown",
   "id": "fe5edd15",
   "metadata": {},
   "source": [
    "3. What is the most significant distinction between a dictionary and a list?"
   ]
  },
  {
   "cell_type": "markdown",
   "id": "154f7914",
   "metadata": {},
   "source": [
    "Answer:-\n",
    "Dictionaries are represented by {} where as list\n",
    "are represented by [].\n",
    "The Items stored in a dictionary are Unordered,\n",
    "while the items in a list are ordered"
   ]
  },
  {
   "cell_type": "markdown",
   "id": "48245f1e",
   "metadata": {},
   "source": [
    "4.What happens if you try to access spam ['foo'] if spam is {'bar':100} ?\n",
    "\n",
    "Ans: we will get a keyError KeyError: 'foo'"
   ]
  },
  {
   "cell_type": "code",
   "execution_count": 9,
   "id": "ce7758b7",
   "metadata": {},
   "outputs": [
    {
     "ename": "KeyError",
     "evalue": "'foo'",
     "output_type": "error",
     "traceback": [
      "\u001b[1;31m---------------------------------------------------------------------------\u001b[0m",
      "\u001b[1;31mKeyError\u001b[0m                                  Traceback (most recent call last)",
      "\u001b[1;32m<ipython-input-9-4b2fa03061d6>\u001b[0m in \u001b[0;36m<module>\u001b[1;34m\u001b[0m\n\u001b[0;32m      1\u001b[0m \u001b[1;31m#Example:-\u001b[0m\u001b[1;33m\u001b[0m\u001b[1;33m\u001b[0m\u001b[1;33m\u001b[0m\u001b[0m\n\u001b[0;32m      2\u001b[0m \u001b[0mspam\u001b[0m \u001b[1;33m=\u001b[0m \u001b[1;33m{\u001b[0m\u001b[1;34m'bar'\u001b[0m\u001b[1;33m:\u001b[0m\u001b[1;36m100\u001b[0m\u001b[1;33m}\u001b[0m\u001b[1;33m\u001b[0m\u001b[1;33m\u001b[0m\u001b[0m\n\u001b[1;32m----> 3\u001b[1;33m \u001b[0mspam\u001b[0m\u001b[1;33m[\u001b[0m\u001b[1;34m'foo'\u001b[0m\u001b[1;33m]\u001b[0m\u001b[1;33m\u001b[0m\u001b[1;33m\u001b[0m\u001b[0m\n\u001b[0m",
      "\u001b[1;31mKeyError\u001b[0m: 'foo'"
     ]
    }
   ],
   "source": [
    "#Example:-\n",
    "spam = {'bar':100}\n",
    "spam['foo']"
   ]
  },
  {
   "cell_type": "markdown",
   "id": "985096b3",
   "metadata": {},
   "source": [
    "5.if a dictionary is stored in spam,what is the difference between the expressions 'cat' in spam and 'cat' in spam.keys() ?"
   ]
  },
  {
   "cell_type": "markdown",
   "id": "9c955762",
   "metadata": {},
   "source": [
    "Answer:-\n",
    "There is no difference.The operator checks whether a value exits as a key in the dictionary or not"
   ]
  },
  {
   "cell_type": "markdown",
   "id": "23036fe2",
   "metadata": {},
   "source": [
    "6.if a dictionary is stored in spam,what is the difference between the \n",
    "expressions 'cat' in spam and 'cat' in spam.values() ?\n",
    "\n",
    "Answer:-\n",
    "'cat' in spam checks whether there is a 'cat' key in the dictionary, \n",
    "while 'cat'in spam.values() checks whether there is a value 'cat'for \n",
    "one of the keys in spam."
   ]
  },
  {
   "cell_type": "markdown",
   "id": "b0df662e",
   "metadata": {},
   "source": [
    "7.what is a shortcut for the following code ?\n",
    "if 'color' not in spam: spam['color'] ='black'"
   ]
  },
  {
   "cell_type": "markdown",
   "id": "e5161f66",
   "metadata": {},
   "source": [
    "Answer:-\n",
    "spam.setdefault('color','black')"
   ]
  },
  {
   "cell_type": "markdown",
   "id": "9a1431e1",
   "metadata": {},
   "source": [
    "8. How do you \"pretty print\" dictionary values using which module and function?"
   ]
  },
  {
   "cell_type": "markdown",
   "id": "71e947a8",
   "metadata": {},
   "source": [
    "Answer:-\n",
    "using pprint()\n",
    "The pprint() function of the pprint module in Python gives its users the \n",
    "ability to pretty print dict Python data types in a much more human-rea-\n",
    "dable and presentable manner. Here we are dealing with a pretty-printing\n",
    "dictionary. We use the pprint() function to pretty-print any given string \n",
    "or object."
   ]
  },
  {
   "cell_type": "code",
   "execution_count": null,
   "id": "24a3eedc",
   "metadata": {},
   "outputs": [],
   "source": [
    "*****************************************************************************************************"
   ]
  }
 ],
 "metadata": {
  "kernelspec": {
   "display_name": "Python 3",
   "language": "python",
   "name": "python3"
  },
  "language_info": {
   "codemirror_mode": {
    "name": "ipython",
    "version": 3
   },
   "file_extension": ".py",
   "mimetype": "text/x-python",
   "name": "python",
   "nbconvert_exporter": "python",
   "pygments_lexer": "ipython3",
   "version": "3.8.8"
  }
 },
 "nbformat": 4,
 "nbformat_minor": 5
}

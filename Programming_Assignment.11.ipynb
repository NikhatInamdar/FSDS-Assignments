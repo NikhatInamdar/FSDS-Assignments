{
 "cells": [
  {
   "cell_type": "code",
   "execution_count": null,
   "id": "8b2405a6",
   "metadata": {},
   "outputs": [],
   "source": [
    "1."
   ]
  },
  {
   "cell_type": "code",
   "execution_count": 5,
   "id": "483e315f",
   "metadata": {},
   "outputs": [
    {
     "name": "stdout",
     "output_type": "stream",
     "text": [
      "Enter a sentence:  INeuron Full Stack Data Science Course is Awesome\n",
      "Enter a length k: 3\n",
      "INeuron\n",
      "Full\n",
      "Stack\n",
      "Data\n",
      "Science\n",
      "Course\n",
      "Awesome\n"
     ]
    }
   ],
   "source": [
    "sentence = input(\"Enter a sentence: \")\n",
    "k = int(input(\"Enter a length k: \"))\n",
    "\n",
    "words = sentence.split() # split sentence into words\n",
    "\n",
    "# loop through the words and print out those that have length greater than k\n",
    "for word in words:\n",
    "    if len(word) > k:\n",
    "        print(word)"
   ]
  },
  {
   "cell_type": "code",
   "execution_count": null,
   "id": "18ff51aa",
   "metadata": {},
   "outputs": [],
   "source": [
    "2."
   ]
  },
  {
   "cell_type": "code",
   "execution_count": null,
   "id": "4c3bca53",
   "metadata": {},
   "outputs": [],
   "source": [
    "3."
   ]
  },
  {
   "cell_type": "code",
   "execution_count": 7,
   "id": "02612f1b",
   "metadata": {},
   "outputs": [
    {
     "name": "stdout",
     "output_type": "stream",
     "text": [
      "Original string: Hello, World!\n",
      "Split string: ['Hello', 'World!']\n",
      "Joined string: Hello-World!\n"
     ]
    }
   ],
   "source": [
    "my_string = \"Hello, World!\"\n",
    "\n",
    "split_string = my_string.split(\", \")\n",
    "joined_string = \"-\".join(split_string)\n",
    "\n",
    "# Print the results\n",
    "print(\"Original string:\", my_string)\n",
    "print(\"Split string:\", split_string)\n",
    "print(\"Joined string:\", joined_string)"
   ]
  },
  {
   "cell_type": "code",
   "execution_count": null,
   "id": "8a2bf148",
   "metadata": {},
   "outputs": [],
   "source": [
    "4."
   ]
  },
  {
   "cell_type": "code",
   "execution_count": 9,
   "id": "8ec7169d",
   "metadata": {},
   "outputs": [
    {
     "name": "stdout",
     "output_type": "stream",
     "text": [
      "10101010 is a binary string.\n",
      "01234567 is not a binary string.\n"
     ]
    }
   ],
   "source": [
    "def is_binary_string(s):\n",
    "    for char in s:\n",
    "        if char not in ['0', '1']:\n",
    "            return False\n",
    "    return True\n",
    "\n",
    "string1 = \"10101010\"\n",
    "string2 = \"01234567\"\n",
    "\n",
    "if is_binary_string(string1):\n",
    "    print(string1 + \" is a binary string.\")\n",
    "else:\n",
    "    print(string1 + \" is not a binary string.\")\n",
    "\n",
    "if is_binary_string(string2):\n",
    "    print(string2 + \" is a binary string.\")\n",
    "else:\n",
    "    print(string2 + \" is not a binary string.\")"
   ]
  },
  {
   "cell_type": "code",
   "execution_count": null,
   "id": "23febfd8",
   "metadata": {},
   "outputs": [],
   "source": [
    "5."
   ]
  },
  {
   "cell_type": "code",
   "execution_count": 12,
   "id": "a42722ea",
   "metadata": {},
   "outputs": [
    {
     "name": "stdout",
     "output_type": "stream",
     "text": [
      "Enter the String 1: Machine learning\n",
      "Enter the String 2: Fullstack learning\n",
      "{'Machine', 'Fullstack'}\n"
     ]
    }
   ],
   "source": [
    "def unCommonWords():\n",
    "    string_1 = set(input(\"Enter the String 1: \").split(' '))\n",
    "    string_2 = set(input(\"Enter the String 2: \").split(' '))\n",
    "    out_string = (string_1.union(string_2)).difference(string_1.intersection(string_2))\n",
    "    print(out_string)\n",
    "\n",
    "unCommonWords()"
   ]
  },
  {
   "cell_type": "code",
   "execution_count": null,
   "id": "60fca258",
   "metadata": {},
   "outputs": [],
   "source": [
    "6. Write a Python to find all duplicate characters in string ?"
   ]
  },
  {
   "cell_type": "code",
   "execution_count": 17,
   "id": "a3ad65d1",
   "metadata": {},
   "outputs": [
    {
     "name": "stdout",
     "output_type": "stream",
     "text": [
      "Enter the string: full stack data science course\n",
      "Duplicate characters : ['e', 't', 'a', 'c', 's', 'l', ' ', 'u']\n"
     ]
    }
   ],
   "source": [
    "def duplicateChars():\n",
    "    str = input('Enter the string: ')\n",
    "    non_duplicate_list = []\n",
    "    duplicate_list = []\n",
    "    for i in str:\n",
    "        if i not in non_duplicate_list:\n",
    "            non_duplicate_list.append(i)\n",
    "        else:\n",
    "            duplicate_list.append(i)\n",
    "    print(f'Duplicate characters : {list(set(duplicate_list))}')\n",
    "        \n",
    "duplicateChars()"
   ]
  },
  {
   "cell_type": "code",
   "execution_count": null,
   "id": "73d84934",
   "metadata": {},
   "outputs": [],
   "source": [
    "7."
   ]
  },
  {
   "cell_type": "code",
   "execution_count": 2,
   "id": "d0a245eb",
   "metadata": {},
   "outputs": [
    {
     "name": "stdout",
     "output_type": "stream",
     "text": [
      "Enter a string: Nikhat#@$\n",
      "There are 3 Speical Characters in Nikhat#@$ which are ['#', '@', '$']\n",
      "Enter a string: Inamdar*&^%$\n",
      "There are 5 Speical Characters in Inamdar*&^%$ which are ['*', '&', '^', '%', '$']\n"
     ]
    }
   ],
   "source": [
    "def checkSpecialChar():\n",
    "    spl_chars = '[@_!#$%^&*()<>?/\\|}{~:]'\n",
    "    num = input('Enter a string: ')\n",
    "    count = 0\n",
    "    char_list = []\n",
    "    for i in num:\n",
    "        if i in spl_chars:\n",
    "            char_list.append(i)\n",
    "            count = count+1\n",
    "    print(f'There are {count} Speical Characters in {num} which are {char_list}')\n",
    "            \n",
    "        \n",
    "checkSpecialChar()\n",
    "checkSpecialChar()"
   ]
  },
  {
   "cell_type": "code",
   "execution_count": null,
   "id": "3920f56f",
   "metadata": {},
   "outputs": [],
   "source": []
  }
 ],
 "metadata": {
  "kernelspec": {
   "display_name": "Python 3",
   "language": "python",
   "name": "python3"
  },
  "language_info": {
   "codemirror_mode": {
    "name": "ipython",
    "version": 3
   },
   "file_extension": ".py",
   "mimetype": "text/x-python",
   "name": "python",
   "nbconvert_exporter": "python",
   "pygments_lexer": "ipython3",
   "version": "3.8.8"
  }
 },
 "nbformat": 4,
 "nbformat_minor": 5
}

{
 "cells": [
  {
   "cell_type": "markdown",
   "id": "4fb6fb06",
   "metadata": {},
   "source": [
    "1.What are the two values of the Boolean data type? How do you write them?"
   ]
  },
  {
   "cell_type": "code",
   "execution_count": 19,
   "id": "eee7365d",
   "metadata": {},
   "outputs": [
    {
     "name": "stdout",
     "output_type": "stream",
     "text": [
      "True\n",
      "False\n"
     ]
    }
   ],
   "source": [
    "The Python Boolean type has only two possible values:\n",
    "    \n",
    "a = True\n",
    "print(a)\n",
    "b = False\n",
    "print(b)"
   ]
  },
  {
   "cell_type": "markdown",
   "id": "68c8b96a",
   "metadata": {},
   "source": [
    "2. What are the three different types of Boolean operators?"
   ]
  },
  {
   "cell_type": "code",
   "execution_count": null,
   "id": "a4051c8a",
   "metadata": {},
   "outputs": [],
   "source": [
    "There are three logical operators that are used to compare values.\n",
    "They evaluate expressions down to Boolean values, returning either \n",
    "True or False . These operators are and , or , and not and are def-\n",
    "ined in the table below."
   ]
  },
  {
   "cell_type": "markdown",
   "id": "dc67472b",
   "metadata": {},
   "source": [
    "3. Make a list of each Boolean operator&#39;s truth tables (i.e. every possible combination of Boolean\n",
    "values for the operator and what it evaluate )."
   ]
  },
  {
   "cell_type": "markdown",
   "id": "1333ab57",
   "metadata": {},
   "source": [
    "Answer:-\n",
    "1: True and True is True\n",
    "2: True and False is False\n",
    "3: False and True is False\n",
    "4: False and False is False"
   ]
  },
  {
   "cell_type": "markdown",
   "id": "bc795482",
   "metadata": {},
   "source": [
    "4. What are the values of the following expressions?\n",
    "(5 > 4) and (3 == 5)\n",
    "not (5 > 4)\n",
    "(5 > 4) or (3 == 5)\n",
    "not ((5 > 4) or (3 == 5))\n",
    "(True and True) and (True == False)\n",
    "(not False) or (not True)"
   ]
  },
  {
   "cell_type": "code",
   "execution_count": null,
   "id": "a73b5367",
   "metadata": {},
   "outputs": [],
   "source": [
    "False\n",
    "False\n",
    "True\n",
    "False\n",
    "False\n",
    "True"
   ]
  },
  {
   "cell_type": "markdown",
   "id": "07086c99",
   "metadata": {},
   "source": [
    "5. What are the six comparison operators?"
   ]
  },
  {
   "cell_type": "code",
   "execution_count": null,
   "id": "0d2e614d",
   "metadata": {},
   "outputs": [],
   "source": [
    "== , !=, <,>, <=, and >="
   ]
  },
  {
   "cell_type": "markdown",
   "id": "9ad93e5d",
   "metadata": {},
   "source": [
    "6. How do you tell the difference between the equal to and assignment operators?Describe a\n",
    "condition and when you would use one."
   ]
  },
  {
   "cell_type": "code",
   "execution_count": null,
   "id": "959e4944",
   "metadata": {},
   "outputs": [],
   "source": [
    "== is the equal to operator that compares two values and evaluates\n",
    "to a Boolean,while = is the assignment operator that stores a value \n",
    "in variable"
   ]
  },
  {
   "cell_type": "markdown",
   "id": "ca4b515f",
   "metadata": {},
   "source": [
    "Q7:-Q7. Identify the three blocks in this code:"
   ]
  },
  {
   "cell_type": "code",
   "execution_count": 9,
   "id": "9f253bf8",
   "metadata": {},
   "outputs": [
    {
     "name": "stdout",
     "output_type": "stream",
     "text": [
      "ham\n",
      "spam\n",
      "spam\n"
     ]
    }
   ],
   "source": [
    "# ANSWER:-\n",
    "spam = 0\n",
    "if spam == 10:\n",
    "    print('eggs')  #Block 1\n",
    "if spam > 5:\n",
    "    print('bacon') #Block 2\n",
    "else:\n",
    "    print('ham')   #Block 3\n",
    "    print('spam')\n",
    "    print('spam')"
   ]
  },
  {
   "cell_type": "markdown",
   "id": "7971a7d6",
   "metadata": {},
   "source": [
    "8. Write code that prints Hello if 1 is stored in spam, prints Howdy if 2 is stored in spam, and prints\n",
    "Greetings! if anything else is stored in spam."
   ]
  },
  {
   "cell_type": "code",
   "execution_count": 5,
   "id": "b746097d",
   "metadata": {},
   "outputs": [
    {
     "name": "stdout",
     "output_type": "stream",
     "text": [
      "enter number: 1\n",
      "Hello\n"
     ]
    }
   ],
   "source": [
    "spam = int(input(\"enter number: \"))\n",
    "\n",
    "if spam == 1:\n",
    "    print('Hello')\n",
    "elif spam == 2:\n",
    "    print('Howdy')\n",
    "else:\n",
    "    print('Greetings!')"
   ]
  },
  {
   "cell_type": "markdown",
   "id": "a2bfc189",
   "metadata": {},
   "source": [
    "9.If your programme is stuck in an endless loop, what keys you’ll press?"
   ]
  },
  {
   "cell_type": "code",
   "execution_count": null,
   "id": "021c9176",
   "metadata": {},
   "outputs": [],
   "source": [
    "Answer:-\n",
    "If program is stuck in endless loop we will press ctrl+c."
   ]
  },
  {
   "cell_type": "markdown",
   "id": "827dcb32",
   "metadata": {},
   "source": [
    "10. How can you tell the difference between break and continue?"
   ]
  },
  {
   "cell_type": "code",
   "execution_count": null,
   "id": "d33f26bb",
   "metadata": {},
   "outputs": [],
   "source": [
    "The main difference between both the statements is that when break keyword comes, it terminates the execution of the current loop and passes the control over the next loop or main body, whereas when continue keyword is encountered, it skips the current iteration and executes the very next iteration in the loop. \n",
    "In simple words break statement leaves a loop, whereas the continue statement jumps to the next iteration. "
   ]
  },
  {
   "cell_type": "code",
   "execution_count": 30,
   "id": "6aa6e781",
   "metadata": {},
   "outputs": [
    {
     "name": "stdout",
     "output_type": "stream",
     "text": [
      "0\n",
      "1\n",
      "2\n",
      "3\n",
      "4\n",
      "5\n",
      "6\n",
      "here loop is breaked: \n",
      "0\n",
      "1\n",
      "2\n",
      "3\n",
      "4\n",
      "5\n",
      "6\n",
      "8\n",
      "9\n"
     ]
    }
   ],
   "source": [
    "# break\n",
    "for i in range(10):\n",
    "    if i==7:\n",
    "         break\n",
    "    print(i)\n",
    "print(f\"here loop is breaked: \")\n",
    "\n",
    "# Contine\n",
    "for i in range(10):\n",
    "    if i==7:\n",
    "        continue\n",
    "    print(i)"
   ]
  },
  {
   "cell_type": "markdown",
   "id": "60f15447",
   "metadata": {},
   "source": [
    "11. In a for loop, what is the difference between range(10), range(0, 10), and range(0, 10, 1)?"
   ]
  },
  {
   "cell_type": "code",
   "execution_count": 15,
   "id": "5d1798d3",
   "metadata": {},
   "outputs": [
    {
     "name": "stdout",
     "output_type": "stream",
     "text": [
      "0\n",
      "1\n",
      "2\n",
      "3\n",
      "4\n",
      "5\n",
      "6\n",
      "7\n",
      "8\n",
      "9\n",
      "-------------------\n",
      "0\n",
      "1\n",
      "2\n",
      "3\n",
      "4\n",
      "5\n",
      "6\n",
      "7\n",
      "8\n",
      "9\n",
      "-------------------\n",
      "0\n",
      "1\n",
      "2\n",
      "3\n",
      "4\n",
      "5\n",
      "6\n",
      "7\n",
      "8\n",
      "9\n"
     ]
    }
   ],
   "source": [
    "for i in range(10):\n",
    "    print(i)\n",
    "print(\"-------------------\")\n",
    "\n",
    "for i in range(0,10):\n",
    "    print(i)\n",
    "print(\"-------------------\")\n",
    "\n",
    "for i in range(0,10,1):\n",
    "     print(i)"
   ]
  },
  {
   "cell_type": "markdown",
   "id": "c7b3fe1c",
   "metadata": {},
   "source": [
    "12. Write a short program that prints the numbers 1 to 10 using a for loop. Then write an equivalent\n",
    "program that prints the numbers 1 to 10 using a while loop."
   ]
  },
  {
   "cell_type": "code",
   "execution_count": 16,
   "id": "6d80db7b",
   "metadata": {},
   "outputs": [
    {
     "name": "stdout",
     "output_type": "stream",
     "text": [
      "using FOR LOOP\n",
      "1\n",
      "2\n",
      "3\n",
      "4\n",
      "5\n",
      "6\n",
      "7\n",
      "8\n",
      "9\n",
      "10\n",
      "using While loop\n",
      "1\n",
      "2\n",
      "3\n",
      "4\n",
      "5\n",
      "6\n",
      "7\n",
      "8\n",
      "9\n",
      "10\n"
     ]
    }
   ],
   "source": [
    "# using for loop\n",
    "print(\"using FOR LOOP\n",
    "for i in range(1, 11):\n",
    "    print(i)\n",
    "    \n",
    "\n",
    "    \n",
    "print(\"using While loop\")\n",
    "i = 1\n",
    "while(i<=10):\n",
    "    print(i)\n",
    "    i += 1\n",
    "    "
   ]
  },
  {
   "cell_type": "markdown",
   "id": "a7038572",
   "metadata": {},
   "source": [
    "Q13. If you had a function named bacon() inside a module named spam, how would you call it after importing spam?"
   ]
  },
  {
   "cell_type": "code",
   "execution_count": null,
   "id": "935607e7",
   "metadata": {},
   "outputs": [],
   "source": [
    "This function can be called with spam.bacon().\n",
    "\n",
    " "
   ]
  },
  {
   "cell_type": "code",
   "execution_count": null,
   "id": "4766c845",
   "metadata": {},
   "outputs": [],
   "source": [
    "********************** END*************************"
   ]
  }
 ],
 "metadata": {
  "kernelspec": {
   "display_name": "Python 3",
   "language": "python",
   "name": "python3"
  },
  "language_info": {
   "codemirror_mode": {
    "name": "ipython",
    "version": 3
   },
   "file_extension": ".py",
   "mimetype": "text/x-python",
   "name": "python",
   "nbconvert_exporter": "python",
   "pygments_lexer": "ipython3",
   "version": "3.8.8"
  }
 },
 "nbformat": 4,
 "nbformat_minor": 5
}

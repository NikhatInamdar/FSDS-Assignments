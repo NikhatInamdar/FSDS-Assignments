{
 "cells": [
  {
   "cell_type": "markdown",
   "id": "06733526",
   "metadata": {},
   "source": [
    "1. Why are functions advantageous to have in your programs?"
   ]
  },
  {
   "cell_type": "code",
   "execution_count": null,
   "id": "2f24ceae",
   "metadata": {},
   "outputs": [],
   "source": [
    "ANSWER:-\n",
    "Advantages of having functions:\n",
    "Functions reduce the need for duplicate code.This makes programs shorter, easier to read, and easier to update."
   ]
  },
  {
   "cell_type": "markdown",
   "id": "4a0c2133",
   "metadata": {},
   "source": [
    "2. When does the code in a function run: when it&#39;s specified or when it&#39;s called?"
   ]
  },
  {
   "cell_type": "code",
   "execution_count": null,
   "id": "9abcac0f",
   "metadata": {},
   "outputs": [],
   "source": [
    "ANSWER:-\n",
    "Code in the function runs when the function is called"
   ]
  },
  {
   "cell_type": "markdown",
   "id": "9b863602",
   "metadata": {},
   "source": [
    "3. What statement creates a function?"
   ]
  },
  {
   "cell_type": "code",
   "execution_count": null,
   "id": "a03a2727",
   "metadata": {},
   "outputs": [],
   "source": [
    "ANSWER\n",
    "The def statement defines(i.e. creates) a function.\n",
    "For example \n",
    "def ineuron():\n",
    "pass"
   ]
  },
  {
   "cell_type": "markdown",
   "id": "55fd5b84",
   "metadata": {},
   "source": [
    "4. What is the difference between a function and a function call?"
   ]
  },
  {
   "cell_type": "code",
   "execution_count": null,
   "id": "342040a8",
   "metadata": {},
   "outputs": [],
   "source": [
    "def my_func(): \n",
    "    pass \n",
    "my_func() #calling of function"
   ]
  },
  {
   "cell_type": "code",
   "execution_count": null,
   "id": "33614944",
   "metadata": {},
   "outputs": [],
   "source": [
    "A function consists of the def statement and the code in its def clause.\n",
    "\n",
    "A function call is what moves the program execution into the function,\n",
    "and the function call evaluates to the function's return value."
   ]
  },
  {
   "cell_type": "markdown",
   "id": "3d41860c",
   "metadata": {},
   "source": [
    "5. How many global scopes are there in a Python program? How many local scopes?"
   ]
  },
  {
   "cell_type": "code",
   "execution_count": null,
   "id": "6d6d71d7",
   "metadata": {},
   "outputs": [],
   "source": [
    "Ans .There's only one global Python scope per program execution.\n",
    "This scope remains in existence until the program terminates,and \n",
    "a local scope is created whenever a function is called."
   ]
  },
  {
   "cell_type": "markdown",
   "id": "88fdc4ed",
   "metadata": {},
   "source": [
    "6. What happens to variables in a local scope when the function call returns?"
   ]
  },
  {
   "cell_type": "code",
   "execution_count": null,
   "id": "a76fc7cc",
   "metadata": {},
   "outputs": [],
   "source": [
    " When a function returns,the local scope is destroyed."
   ]
  },
  {
   "cell_type": "markdown",
   "id": "463d2cd3",
   "metadata": {},
   "source": [
    "7. What is the concept of a return value? Is it possible to have a return value in an expression?"
   ]
  },
  {
   "cell_type": "code",
   "execution_count": null,
   "id": "57c32158",
   "metadata": {},
   "outputs": [],
   "source": [
    "A return value is the value that a function call evaluates to. \n",
    "Like any value, a return value can be used as part of an expression."
   ]
  },
  {
   "cell_type": "markdown",
   "id": "efeb832d",
   "metadata": {},
   "source": [
    "8. If a function does not have a return statement, what is the return value of a call to that function?"
   ]
  },
  {
   "cell_type": "code",
   "execution_count": null,
   "id": "34990cca",
   "metadata": {},
   "outputs": [],
   "source": [
    " If the funtion does not have a return statement it will not return anything."
   ]
  },
  {
   "cell_type": "markdown",
   "id": "b98726d8",
   "metadata": {},
   "source": [
    "Q9. How do you make a function variable refer to the global variable?"
   ]
  },
  {
   "cell_type": "code",
   "execution_count": null,
   "id": "a9b0c933",
   "metadata": {},
   "outputs": [],
   "source": [
    "To make function variable as a global variable you can use \n",
    "the global keyword to declare which variables are global."
   ]
  },
  {
   "cell_type": "markdown",
   "id": "30b63085",
   "metadata": {},
   "source": [
    "Q10. What is the data type of None?"
   ]
  },
  {
   "cell_type": "code",
   "execution_count": null,
   "id": "af1ec668",
   "metadata": {},
   "outputs": [],
   "source": [
    "The data type of None is NoneType."
   ]
  },
  {
   "cell_type": "markdown",
   "id": "4817a277",
   "metadata": {},
   "source": [
    "11. What does the sentence import areallyourpetsnamederic do?\n"
   ]
  },
  {
   "cell_type": "code",
   "execution_count": null,
   "id": "6425e2c0",
   "metadata": {},
   "outputs": [],
   "source": [
    "That import statement imports a module named areallyourpetsnamederic. \n",
    "(But a module of this name doesnt exists in Python)"
   ]
  },
  {
   "cell_type": "markdown",
   "id": "c068b18f",
   "metadata": {},
   "source": [
    "12. If you had a bacon() feature in a spam module, what would you call it after importing spam?\n"
   ]
  },
  {
   "cell_type": "code",
   "execution_count": null,
   "id": "381a3024",
   "metadata": {},
   "outputs": [],
   "source": [
    "import spam\n",
    "spam.bacon()"
   ]
  },
  {
   "cell_type": "markdown",
   "id": "cd547540",
   "metadata": {},
   "source": [
    "13. What can you do to save a programme from crashing if it encounters an error?\n"
   ]
  },
  {
   "cell_type": "code",
   "execution_count": null,
   "id": "e38d8221",
   "metadata": {},
   "outputs": [],
   "source": [
    " We can use try except clause to save a program from crashing."
   ]
  },
  {
   "cell_type": "markdown",
   "id": "f720d3ca",
   "metadata": {},
   "source": [
    "14. What is the purpose of the try clause? What is the purpose of the except clause?"
   ]
  },
  {
   "cell_type": "code",
   "execution_count": null,
   "id": "4a6ed669",
   "metadata": {},
   "outputs": [],
   "source": [
    "Try and Except clause is used to handle the errors within our code.\n",
    "The try block is used to check some code for errors i.e the code inside\n",
    "the try block will execute when there is no error in the program.Whereas \n",
    "the code inside the except block will execute whenever the program encou-\n",
    "nters some error in the try block.\n",
    "\n",
    "try:\n",
    "# Code\n",
    "except:\n",
    "# Executed if error in the\n",
    "# try block"
   ]
  },
  {
   "cell_type": "code",
   "execution_count": null,
   "id": "8a909f2b",
   "metadata": {},
   "outputs": [],
   "source": [
    "************************************END*****************************************"
   ]
  }
 ],
 "metadata": {
  "kernelspec": {
   "display_name": "Python 3",
   "language": "python",
   "name": "python3"
  },
  "language_info": {
   "codemirror_mode": {
    "name": "ipython",
    "version": 3
   },
   "file_extension": ".py",
   "mimetype": "text/x-python",
   "name": "python",
   "nbconvert_exporter": "python",
   "pygments_lexer": "ipython3",
   "version": "3.8.8"
  }
 },
 "nbformat": 4,
 "nbformat_minor": 5
}

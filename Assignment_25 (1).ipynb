{
 "cells": [
  {
   "cell_type": "markdown",
   "id": "7359c22d",
   "metadata": {},
   "source": [
    "1) What is the difference between enclosing a list comprehension in square brackets and\n",
    "   parentheses?"
   ]
  },
  {
   "cell_type": "markdown",
   "id": "eeb3d6da",
   "metadata": {},
   "source": [
    "In Python, enclosing a list comprehension in square brackets ([]) creates a list,while enclosing it in \n",
    "parentheses (()) creates a generator object.\n",
    "A list comprehension is a concise way to create a new list by transforming elements from an existing \n",
    "iterable. HereS an example:"
   ]
  },
  {
   "cell_type": "code",
   "execution_count": 5,
   "id": "96ef85a0",
   "metadata": {},
   "outputs": [
    {
     "name": "stdout",
     "output_type": "stream",
     "text": [
      "[1, 4, 9, 16, 25]\n"
     ]
    }
   ],
   "source": [
    "#example1\n",
    "numbers = [1, 2, 3, 4, 5]\n",
    "squares = [num ** 2 for num in numbers]\n",
    "print(squares) # [1, 4, 9, 16, 25]"
   ]
  },
  {
   "cell_type": "code",
   "execution_count": 6,
   "id": "56f82473",
   "metadata": {},
   "outputs": [
    {
     "name": "stdout",
     "output_type": "stream",
     "text": [
      "<generator object <genexpr> at 0x000002245BCAC4A0>\n"
     ]
    }
   ],
   "source": [
    "#example2\n",
    "numbers = [1, 2, 3, 4, 5]\n",
    "squares = (num ** 2 for num in numbers)\n",
    "print(squares)"
   ]
  },
  {
   "cell_type": "markdown",
   "id": "f5448386",
   "metadata": {},
   "source": [
    "In this case, the generator comprehension (num ** 2 for num in numbers) creates a generator object squares \n",
    "that generates the square of each number in the numbers list when iterated over."
   ]
  },
  {
   "cell_type": "markdown",
   "id": "a68b1a3a",
   "metadata": {},
   "source": [
    "Q2.What is the relationship between generators and iterators?"
   ]
  },
  {
   "cell_type": "code",
   "execution_count": null,
   "id": "5938a133",
   "metadata": {},
   "outputs": [],
   "source": [
    "An iterator is an object which contains a countable number of values and it is used to iterate over iterable objects like list, \n",
    "tuples etc.\n",
    "Using an iterator- iter() keyword is used to create an iterator containing an iterable object.next() keyword is used to call \n",
    "the next element in the iterable object.\n",
    "\n",
    "Generator\n",
    "It is another way of creating iterators in a simple way where it uses the keyword “yield” instead of returning it in a defined\n",
    "function Generators are implemented using a function Here,the yield function returns the data without affecting or exiting the\n",
    "function. It will return a sequence of data in an iterable format where we need to iterate over the sequence to use the data \n",
    "as they won’t store the entire sequence in the memory By using next() function we can iterate the output of generator function\n",
    "\n"
   ]
  },
  {
   "cell_type": "code",
   "execution_count": 15,
   "id": "6f31b3d3",
   "metadata": {},
   "outputs": [
    {
     "name": "stdout",
     "output_type": "stream",
     "text": [
      "Dog\n",
      "Cat\n",
      "Bear\n"
     ]
    }
   ],
   "source": [
    "# iterator\n",
    "iter_list = iter(['Dog', 'Cat', 'Bear'])\n",
    "print(next(iter_list))\n",
    "print(next(iter_list))\n",
    "print(next(iter_list))"
   ]
  },
  {
   "cell_type": "code",
   "execution_count": 16,
   "id": "502b3b92",
   "metadata": {},
   "outputs": [
    {
     "name": "stdout",
     "output_type": "stream",
     "text": [
      "0\n",
      "2\n",
      "4\n",
      "6\n",
      "8\n"
     ]
    }
   ],
   "source": [
    "# Generator \n",
    "def even_numbers(n):\n",
    "    count = 0\n",
    "    while count < n:\n",
    "        yield 2 * count\n",
    "        count += 1\n",
    "for num in even_numbers(5):\n",
    "    print(num)"
   ]
  },
  {
   "cell_type": "markdown",
   "id": "94aaa897",
   "metadata": {},
   "source": [
    "Q3.What are the signs that a function is a generator function?"
   ]
  },
  {
   "cell_type": "markdown",
   "id": "7b1bd972",
   "metadata": {},
   "source": [
    "If a function contains at least one yield statement(it may contain other yield or return statements),it becomes a \n",
    "generator function.Both yield and return will return some value from a function."
   ]
  },
  {
   "cell_type": "markdown",
   "id": "b5ee7cdc",
   "metadata": {},
   "source": [
    "Q4. What is the purpose of a yield statement?"
   ]
  },
  {
   "cell_type": "markdown",
   "id": "9f9ff97d",
   "metadata": {},
   "source": [
    "In Python, the yield statement is used in a function to turn it into a generator.A generator is a special type \n",
    "of iterator that generates a sequence of values on the fly,rather than generating them all at once and returning \n",
    "them in a list.\n",
    "When a yield statement is encountered in a function,the functions state is saved and the yielded value is returned \n",
    "to the caller.The next time the generator is called, it resumes execution from where it left off,with its state still \n",
    "intact, and continues to execute until it reaches the next yield statement.\n",
    "This allows generators to be very memory-efficient when working with large data sets or infinite sequences, since \n",
    "they only generate values as needed, rather than creating them all at once and storing them in memory."
   ]
  },
  {
   "cell_type": "code",
   "execution_count": 12,
   "id": "0bf9eb8d",
   "metadata": {},
   "outputs": [],
   "source": [
    "def fibonacci(n):\n",
    "    a, b = 0, 1\n",
    "    for i in range(n):\n",
    "        yield a\n",
    "        a, b = b, a + b"
   ]
  },
  {
   "cell_type": "code",
   "execution_count": 14,
   "id": "0156c4b9",
   "metadata": {},
   "outputs": [
    {
     "name": "stdout",
     "output_type": "stream",
     "text": [
      "0\n",
      "1\n",
      "1\n",
      "2\n",
      "3\n",
      "5\n",
      "8\n",
      "13\n",
      "21\n",
      "34\n"
     ]
    }
   ],
   "source": [
    "for num in fibonacci(10):\n",
    "     print(num)"
   ]
  },
  {
   "cell_type": "markdown",
   "id": "a8ce4765",
   "metadata": {},
   "source": [
    "Q5. What is the relationship between map calls and list comprehensions? Make a comparison and contrast between the two."
   ]
  },
  {
   "cell_type": "markdown",
   "id": "7fcef94f",
   "metadata": {},
   "source": [
    "1.Map function:\n",
    "    \n",
    "Suppose we have a function and we want to compute this function for different values in a single line of code.\n",
    "This is where map() function plays its role. map() function returns a map object(which is an iterator) of the\n",
    "results after applying the given function to each item of a given iterable (list, tuple etc.)\n",
    "\n",
    "If we already have a function defined, it is often good to use map For example, map(sum, myLists) is more neat \n",
    "than [sum(x) for x in myLists]. You gain the elegance of not having to make up a dummy variable \n",
    "(e.g. sum(x) for x... or sum(_) for _... or sum(readableName) for readableName...) which you have to type twice, \n",
    "just to iterate.\n",
    "\n",
    "2.List Comprehension:\n",
    "List Comprehension is a substitute for the lambda function, map(), filter() and reduce()\n",
    "\n",
    "3.Comparision :\n",
    "    \n",
    "1. List comprehension is more concise and easier to read as compared to map\n",
    "2. List comprehension allows filtering. In map, we have no such facility\n",
    "\n",
    "For example, to print all even numbers in range of 100, we can write [n for n in range(100) if n%2 == 0]. \n",
    "There is no alternate for it in map 3. List comprehension are used when a list of results is required,where \n",
    "as map only returns a map object and does not return any list. 4. List comprehension is faster than map when\n",
    "we need to evaluate expressions that are too long or complicated to express 5. Map is faster in case of calling \n",
    "an already defined function (as no lambda is required)"
   ]
  },
  {
   "cell_type": "code",
   "execution_count": null,
   "id": "10ad42dc",
   "metadata": {},
   "outputs": [],
   "source": []
  }
 ],
 "metadata": {
  "kernelspec": {
   "display_name": "Python 3",
   "language": "python",
   "name": "python3"
  },
  "language_info": {
   "codemirror_mode": {
    "name": "ipython",
    "version": 3
   },
   "file_extension": ".py",
   "mimetype": "text/x-python",
   "name": "python",
   "nbconvert_exporter": "python",
   "pygments_lexer": "ipython3",
   "version": "3.8.8"
  }
 },
 "nbformat": 4,
 "nbformat_minor": 5
}

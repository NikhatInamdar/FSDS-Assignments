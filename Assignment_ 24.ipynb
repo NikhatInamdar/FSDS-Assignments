{
 "cells": [
  {
   "cell_type": "markdown",
   "id": "8a2b1b49",
   "metadata": {},
   "source": [
    "1.What is the relationship between def statements and lambda expressions ?"
   ]
  },
  {
   "cell_type": "markdown",
   "id": "2484f6ca",
   "metadata": {},
   "source": [
    "Both def statements and lambda expressions are used to define functions in Python, \n",
    "but they have some differences in terms of syntax, usage,and functionality.\n",
    "def statements are used to define named functions that can take arguments and\n",
    "return values. They have a formal syntax and can have multiple lines of code \n",
    "within them. Here is an example:"
   ]
  },
  {
   "cell_type": "code",
   "execution_count": 1,
   "id": "12ba43b9",
   "metadata": {},
   "outputs": [],
   "source": [
    "def add_numbers(x, y):\n",
    "    return x + y"
   ]
  },
  {
   "cell_type": "code",
   "execution_count": 2,
   "id": "c3ef4703",
   "metadata": {},
   "outputs": [
    {
     "data": {
      "text/plain": [
       "110"
      ]
     },
     "execution_count": 2,
     "metadata": {},
     "output_type": "execute_result"
    }
   ],
   "source": [
    "add_numbers(10,100)"
   ]
  },
  {
   "cell_type": "markdown",
   "id": "d9f4b5ad",
   "metadata": {},
   "source": [
    "lambda expressions,on the other hand are used to define anonymous functions with a \n",
    "single expression. They have a more concise syntax and are typically used for simple, \n",
    "one-line functions. Here's an example:\n",
    "In terms of functionality, def statements can define functions with any number of \n",
    "arguments and any amount of complexity, while lambda expressions are limited to \n",
    "defining simple functions with a single expression. Additionally, def statements\n",
    "can include default argument values and have a docstring to document the function,\n",
    "which is not possible with lambda expressions.\n",
    "While def statements are used to define named functions with any amount of complexity,\n",
    "lambda expressions are used to define simple, anonymous functions with a single expression."
   ]
  },
  {
   "cell_type": "code",
   "execution_count": 4,
   "id": "6f8f669d",
   "metadata": {},
   "outputs": [],
   "source": [
    "add_numbers = lambda x, y: x + y"
   ]
  },
  {
   "cell_type": "markdown",
   "id": "d19bbda2",
   "metadata": {},
   "source": [
    "2. What is the benefit of lambda?"
   ]
  },
  {
   "cell_type": "markdown",
   "id": "6a9f83b5",
   "metadata": {},
   "source": [
    "One of the main benefits of lambda expressions in Python is that they allow for the creation of anonymous functions, which can be useful in situations where a function is only needed for a short period of time or in a specific context.\n",
    "\n",
    "Here are some additional benefits of using lambda expressions:\n",
    "\n",
    "Concise syntax: lambda expressions have a very concise syntax that allows you to define a function in a single line of code. This can be especially useful for small, simple functions.\n",
    "\n",
    "Functional programming: lambda expressions are often used in functional programming paradigms where functions are treated as first-class citizens. This means that they can be passed as arguments to other functions, returned as values from functions, and stored in variables.\n",
    "\n",
    "Reduced code complexity: By using lambda expressions, you can often reduce the amount of code needed to accomplish a task. This can make your code more readable and easier to maintain.\n",
    "\n",
    "Increased readability: In some cases, using a lambda expression can make your code more readable by reducing the amount of boilerplate code needed to define a function.\n",
    "\n",
    "Improved performance: Because lambda expressions are often used in functional programming paradigms, they can lead to more efficient and optimized code that is easier to parallelize and optimize."
   ]
  },
  {
   "cell_type": "markdown",
   "id": "11da174f",
   "metadata": {},
   "source": [
    "3.Compare and contrast map, filter, and reduce."
   ]
  },
  {
   "cell_type": "markdown",
   "id": "86607fb5",
   "metadata": {},
   "source": [
    "The differences between map, filter and reduce are:\n",
    "    \n",
    "map():The map() function is a type of higher-order. This function takes another function as a parameter\n",
    "      along with a sequence of iterables and returns an output after applying the function to each iterable \n",
    "      present in the sequence."
   ]
  },
  {
   "cell_type": "code",
   "execution_count": 6,
   "id": "518c8491",
   "metadata": {},
   "outputs": [
    {
     "name": "stdout",
     "output_type": "stream",
     "text": [
      "[2, 4, 6, 8, 10]\n"
     ]
    }
   ],
   "source": [
    "#Example:-\n",
    "my_list = [1, 2, 3, 4, 5]\n",
    "d_list = list(map(lambda x: x * 2, my_list))\n",
    "print(d_list)"
   ]
  },
  {
   "cell_type": "markdown",
   "id": "f7c9cf8c",
   "metadata": {},
   "source": [
    "filter: The filter function takes two arguments:a function and an iterable. It applies the function to each element \n",
    "        in the iterable and returns an iterator of the elements for which the function returns True. The resulting \n",
    "        iterator can be shorter than the original iterable."
   ]
  },
  {
   "cell_type": "code",
   "execution_count": 7,
   "id": "d02789ac",
   "metadata": {},
   "outputs": [
    {
     "name": "stdout",
     "output_type": "stream",
     "text": [
      "[2, 4]\n"
     ]
    }
   ],
   "source": [
    "#Example:-\n",
    "my_list = [1, 2, 3, 4, 5]\n",
    "even_list = list(filter(lambda x: x % 2 == 0, my_list))\n",
    "print(even_list)"
   ]
  },
  {
   "cell_type": "markdown",
   "id": "6c43070f",
   "metadata": {},
   "source": [
    "reduce:The reduce function is a bit different from map and filter.It takes two arguments: a function and an iterable.\n",
    "        It applies the function to the first two elements in the iterable, then applies it to the result and the next \n",
    "        element, and so on, until there is only one element left. The result is the final accumulated value."
   ]
  },
  {
   "cell_type": "code",
   "execution_count": 8,
   "id": "0a92848b",
   "metadata": {},
   "outputs": [
    {
     "name": "stdout",
     "output_type": "stream",
     "text": [
      "15\n"
     ]
    }
   ],
   "source": [
    "#Example:-\n",
    "from functools import reduce\n",
    "\n",
    "my_list = [1, 2, 3, 4, 5]\n",
    "sum_of_list = reduce(lambda x, y: x + y, my_list)\n",
    "print(sum_of_list)"
   ]
  },
  {
   "cell_type": "markdown",
   "id": "4505df1c",
   "metadata": {},
   "source": [
    "5. What are recursive functions, and how are they used?"
   ]
  },
  {
   "cell_type": "markdown",
   "id": "394d6450",
   "metadata": {},
   "source": [
    "A recursive function is a function that calls itself during its execution.The process may repeat several times, outputting the result and the end of each iteration."
   ]
  },
  {
   "cell_type": "markdown",
   "id": "c83c384b",
   "metadata": {},
   "source": [
    "6 What are some general design guidelines for coding functions?"
   ]
  },
  {
   "cell_type": "markdown",
   "id": "5dc18722",
   "metadata": {},
   "source": [
    "1.Use descriptive and meaningful names for your functions: A function name should clearly describe what the function does,\n",
    "  and it should be concise and easy to understand.\n",
    "\n",
    "2.Always use a docstring to explain the functionality of the function\n",
    "\n",
    "3.avoid using or limited use of global variables\n",
    "\n",
    "4.Proper Identation to increase the code readability\n",
    "\n",
    "5.Avoid using digits while choosing a variable name\n",
    "\n",
    "6.try to use a name for the function which conveys the purpose of the function.\n",
    "\n",
    "7.Local variables should be named using camelCase format(ex: localVariable) whereas Global variables names should be using \n",
    "PascalCase (ex:GlobalVariable)."
   ]
  },
  {
   "cell_type": "code",
   "execution_count": null,
   "id": "448a1680",
   "metadata": {},
   "outputs": [],
   "source": [
    "7.Name three or more ways that functions can communicate results to a caller."
   ]
  },
  {
   "cell_type": "markdown",
   "id": "b1833207",
   "metadata": {},
   "source": [
    ">Some of the ways in which a function can communicate with the calling function is:\n",
    "\n",
    "1.print\n",
    "\n",
    "2.return\n",
    "\n",
    "3.yield"
   ]
  }
 ],
 "metadata": {
  "kernelspec": {
   "display_name": "Python 3",
   "language": "python",
   "name": "python3"
  },
  "language_info": {
   "codemirror_mode": {
    "name": "ipython",
    "version": 3
   },
   "file_extension": ".py",
   "mimetype": "text/x-python",
   "name": "python",
   "nbconvert_exporter": "python",
   "pygments_lexer": "ipython3",
   "version": "3.8.8"
  }
 },
 "nbformat": 4,
 "nbformat_minor": 5
}

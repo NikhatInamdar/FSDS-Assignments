{
 "cells": [
  {
   "cell_type": "markdown",
   "id": "fb8cf9ad",
   "metadata": {},
   "source": [
    "1. In the below elements which of them are values or an expression? eg:- values can be\n",
    "integer or string and expressions will be mathematical operators.\n",
    "*\n",
    "&#39;hello&#39;\n",
    "-87.8\n",
    "-\n",
    "/\n",
    "+\n",
    "6"
   ]
  },
  {
   "cell_type": "code",
   "execution_count": null,
   "id": "727d2925",
   "metadata": {},
   "outputs": [],
   "source": [
    "Operators: +,-,*,/\n",
    "Values:    'hello',-88.5,5"
   ]
  },
  {
   "cell_type": "markdown",
   "id": "f9ce702a",
   "metadata": {},
   "source": [
    "2. What is the difference between string and variable?"
   ]
  },
  {
   "cell_type": "code",
   "execution_count": null,
   "id": "05383a29",
   "metadata": {},
   "outputs": [],
   "source": [
    "ANSWER:-\n",
    "Variables are symbols that you can use to store data in a program. \n",
    "You can think of them as an empty box that you fill with some data\n",
    "or value. Strings are data, so we can use them to fill up a variable. \n",
    "Declaring strings as variables can make it easier for us to work with \n",
    "strings throughout our Python programs."
   ]
  },
  {
   "cell_type": "markdown",
   "id": "fce11c10",
   "metadata": {},
   "source": [
    "3. Describe three different data types."
   ]
  },
  {
   "cell_type": "code",
   "execution_count": null,
   "id": "954a85d1",
   "metadata": {},
   "outputs": [],
   "source": [
    "ANSWER:Data types\n",
    "-------------------------------------------------------------------------------\n",
    "Data Types    Examples         Explanation\n",
    "\n",
    "Integer        1234567         Whole numbers\n",
    "Floats\t       3.14            Decimal Numbers\n",
    "Booleans      True,False       Truth values that represent Yes/No"
   ]
  },
  {
   "cell_type": "markdown",
   "id": "8395d085",
   "metadata": {},
   "source": [
    "4. What is an expression made up of? What do all expressions do?"
   ]
  },
  {
   "cell_type": "code",
   "execution_count": null,
   "id": "a442832e",
   "metadata": {},
   "outputs": [],
   "source": [
    "ANSWER:-\n",
    "An expression is a combination of values and operators.All expressions \n",
    "evaluate(that is,reduce) to a single value."
   ]
  },
  {
   "cell_type": "markdown",
   "id": "837e013b",
   "metadata": {},
   "source": [
    "5. This assignment statements, like spam = 10. What is the difference between an\n",
    "expression and a statement?"
   ]
  },
  {
   "cell_type": "code",
   "execution_count": null,
   "id": "c21e8fa4",
   "metadata": {},
   "outputs": [],
   "source": [
    "ANSWER:-\n",
    "An expression evaluates to a single value.A statement does not."
   ]
  },
  {
   "cell_type": "markdown",
   "id": "876b4928",
   "metadata": {},
   "source": [
    "6. After running the following code, what does the variable bacon contain?\n",
    "bacon = 22\n",
    "bacon + 1"
   ]
  },
  {
   "cell_type": "code",
   "execution_count": 49,
   "id": "288e4132",
   "metadata": {},
   "outputs": [],
   "source": [
    "ANSWER:-\n",
    "The bacon variable is set to 20.\n",
    "the bacon +1 expression does not reassign\n",
    "the value in bacon(the would r=need an assignment statement)\n",
    "bacon = bacon+1\n",
    "\n"
   ]
  },
  {
   "cell_type": "markdown",
   "id": "9e74df35",
   "metadata": {},
   "source": [
    "7. What should the values of the following two terms be?\n",
    "'spam'+\"spamspam\"\n",
    "'spam'*3"
   ]
  },
  {
   "cell_type": "code",
   "execution_count": 16,
   "id": "088e4c89",
   "metadata": {},
   "outputs": [
    {
     "data": {
      "text/plain": [
       "'spamspamspam'"
      ]
     },
     "execution_count": 16,
     "metadata": {},
     "output_type": "execute_result"
    }
   ],
   "source": [
    "ANSWER:-\n",
    "Both expression evaluate to the string 'spamspamspam'\n",
    "'spam'+\"spamspam\"\n"
   ]
  },
  {
   "cell_type": "code",
   "execution_count": 17,
   "id": "d5fddb92",
   "metadata": {},
   "outputs": [
    {
     "data": {
      "text/plain": [
       "'spamspamspam'"
      ]
     },
     "execution_count": 17,
     "metadata": {},
     "output_type": "execute_result"
    }
   ],
   "source": [
    "'spam' * 3"
   ]
  },
  {
   "cell_type": "markdown",
   "id": "f0a6a69c",
   "metadata": {},
   "source": [
    "8. Why is eggs a valid variable name while 100 is invalid?"
   ]
  },
  {
   "cell_type": "code",
   "execution_count": null,
   "id": "6c33db54",
   "metadata": {},
   "outputs": [],
   "source": [
    "ANSWER:-\n",
    "Because variable names cannot begin with a number.\n",
    "like \n",
    "1 = 10  # it will show error\n",
    "a = 100 # it will print 100"
   ]
  },
  {
   "cell_type": "markdown",
   "id": "cc3a870a",
   "metadata": {},
   "source": [
    "9. What three functions can be used to get the integer, floating-point number, or string\n",
    "version of a value?"
   ]
  },
  {
   "cell_type": "code",
   "execution_count": null,
   "id": "9a7edb33",
   "metadata": {},
   "outputs": [],
   "source": [
    "ANSWER:-\n",
    "The int(),float() and str()function evaluate to the integer,\n",
    "floating point number, and string versions of the value passes \n",
    "to them."
   ]
  },
  {
   "cell_type": "markdown",
   "id": "2239e996",
   "metadata": {},
   "source": [
    "10. Why does this expression cause an error? How can you fix it?\n",
    "'I have eaten' +99+'burritos.'"
   ]
  },
  {
   "cell_type": "code",
   "execution_count": null,
   "id": "b3f5b910",
   "metadata": {},
   "outputs": [],
   "source": [
    "The  expression cause an error because 99 is an interger,and \n",
    "only string can be concatenated to other strings with the\n",
    "+operator.the correct way is \n",
    "\n",
    "'i have eaten ' + str(99)+ ' burritos'"
   ]
  },
  {
   "cell_type": "code",
   "execution_count": 48,
   "id": "35187f62",
   "metadata": {},
   "outputs": [
    {
     "data": {
      "text/plain": [
       "'i have eaten 99 burritos'"
      ]
     },
     "execution_count": 48,
     "metadata": {},
     "output_type": "execute_result"
    }
   ],
   "source": [
    "'i have eaten ' + str(99)+ ' burritos'"
   ]
  },
  {
   "cell_type": "code",
   "execution_count": null,
   "id": "f8176a7f",
   "metadata": {},
   "outputs": [],
   "source": []
  },
  {
   "cell_type": "code",
   "execution_count": null,
   "id": "8c2ccdf2",
   "metadata": {},
   "outputs": [],
   "source": []
  }
 ],
 "metadata": {
  "kernelspec": {
   "display_name": "Python 3",
   "language": "python",
   "name": "python3"
  },
  "language_info": {
   "codemirror_mode": {
    "name": "ipython",
    "version": 3
   },
   "file_extension": ".py",
   "mimetype": "text/x-python",
   "name": "python",
   "nbconvert_exporter": "python",
   "pygments_lexer": "ipython3",
   "version": "3.8.8"
  }
 },
 "nbformat": 4,
 "nbformat_minor": 5
}

{
 "cells": [
  {
   "cell_type": "code",
   "execution_count": null,
   "id": "329f38b1",
   "metadata": {},
   "outputs": [],
   "source": [
    "1"
   ]
  },
  {
   "cell_type": "code",
   "execution_count": null,
   "id": "ca0f3d16",
   "metadata": {},
   "outputs": [],
   "source": []
  },
  {
   "cell_type": "code",
   "execution_count": null,
   "id": "79f766d9",
   "metadata": {},
   "outputs": [],
   "source": [
    "2"
   ]
  },
  {
   "cell_type": "markdown",
   "id": "84c006fe",
   "metadata": {},
   "source": [
    "In Linux based systems the absolute path starts with /. Where as in Windows based systems absolute path starts with C:"
   ]
  },
  {
   "cell_type": "code",
   "execution_count": null,
   "id": "3d618f7c",
   "metadata": {},
   "outputs": [],
   "source": [
    "3."
   ]
  },
  {
   "cell_type": "code",
   "execution_count": null,
   "id": "19baeb67",
   "metadata": {},
   "outputs": [],
   "source": [
    "1.The os.getcwd() function and os.chdir() function are used for working with directories in Python.\n",
    "The os.getcwd() function returns the current working directory of the Python script,which is the \n",
    "directory that the script is currently running in.This function does not take any arguments,and \n",
    "simply returns a string representing the absolute path of the current working directory."
   ]
  },
  {
   "cell_type": "code",
   "execution_count": null,
   "id": "fcb1248f",
   "metadata": {},
   "outputs": [],
   "source": [
    "2.The os.chdir() function is used to change the current working directory of the Python script. \n",
    "This function takes a string argument representing the absolute or relative path of the directory \n",
    "that you want to change the working directory to."
   ]
  },
  {
   "cell_type": "code",
   "execution_count": 3,
   "id": "386bb730",
   "metadata": {},
   "outputs": [
    {
     "name": "stdout",
     "output_type": "stream",
     "text": [
      "C:\\Users\\Lenovo\n",
      "C:\\Users\\Lenovo\\Documents\n"
     ]
    }
   ],
   "source": [
    "import os\n",
    "print(os.getcwd()) # Prints the current Working Directory\n",
    "path = r'C:\\Users\\Lenovo\\Documents'\n",
    "os.chdir(path)\n",
    "print(os.getcwd())"
   ]
  },
  {
   "cell_type": "code",
   "execution_count": null,
   "id": "94ecbe14",
   "metadata": {},
   "outputs": [],
   "source": [
    "4.What are . and .. folders ?"
   ]
  },
  {
   "cell_type": "markdown",
   "id": "6aca115e",
   "metadata": {},
   "source": [
    "In Python, the . and .. folders refer to the current directory and the parent directory, respectively.\n",
    "The . folder represents the current directory where your Python script or program is running. You can use \n",
    ". to access files in the current directory or to indicate the current directory in file paths.\n",
    "\n",
    "The .. folder represents the parent directory of the current directory. You can use .. to access files in\n",
    "the parent directory or to indicate the parent directory in file paths.\n",
    "\n",
    "For example,if you have a file named example.txt in the current directory,you can open it using the\n",
    "following code:\n",
    "with open('./example.txt', 'r') as f:\n",
    "\n",
    "Here,. represents the current directory, and ./example.txt specifies the file path to example.txt in the current directory.\n",
    "Similarly, if you have a file named parent_example.txt in the parent directory of the current directory, you can open \n",
    "it using the following code:\n",
    "with open('../parent_example.txt', 'r') as f:"
   ]
  },
  {
   "cell_type": "code",
   "execution_count": null,
   "id": "d7ad1de0",
   "metadata": {},
   "outputs": [],
   "source": [
    "5.In C:\\bacon\\eggs\\spam.txt, which part is the dir name, and which part is the base name?"
   ]
  },
  {
   "cell_type": "markdown",
   "id": "e1122ae4",
   "metadata": {},
   "source": [
    "In the file path C:\\bacon\\eggs\\spam.txt, the directory name is\"C:\\bacon\\eggs\" and the base name is \"spam.txt\".\n",
    "\n",
    "The directory name includes the full path to the directory that contains the file. In this case, the directory name is \"C:\\bacon\\eggs\". The backslash () character is used as a separator between directory names.\n",
    "\n",
    "The base name is the name of the file itself, which in this case is \"spam.txt\". It includes the file extension, which is \".txt\" in this case.\n",
    "\n",
    "In file path operations, it's important to distinguish between the directory name and the base name, as they are often treated separately by file system and programming operations.\n",
    "\n",
    "For C:\\bacon\\eggs\\spam.txt\n",
    "    \n",
    "The dir name is C:\\\\bacon\\\\eggs\n",
    "    \n",
    "The Base name is spam.txt\n",
    "\n",
    "\n",
    "\n"
   ]
  },
  {
   "cell_type": "code",
   "execution_count": null,
   "id": "7ffe0fbe",
   "metadata": {},
   "outputs": [],
   "source": [
    "6.What are the three “mode” arguments that can be passed to the open() function?"
   ]
  },
  {
   "cell_type": "markdown",
   "id": "4f9ca372",
   "metadata": {},
   "source": [
    "The open() function in Python is used to open a file and returns a file object that can be used to read or write the contents of the file. \n",
    "The function takes two arguments:the file name and the mode.\n",
    "\n",
    "The mode argument specifies how the file should be opened, and there are three main modes:\n",
    "\n",
    "1. r (read mode):This is the default mode, and it opens the file for reading. If the file does not exist,\n",
    "    it raises a FileNotFoundError exception.\n",
    "\n",
    "2. w (write mode):This mode opens the file for writing. If the file already exists, its contents are truncated \n",
    "    (i.e., deleted). If the file does not exist, a new file is created.\n",
    "\n",
    "3. a (append mode):This mode opens the file for writing, but it appends new data to the end of the file instead \n",
    "    of truncating it. If the file does not exist, a new file is created."
   ]
  },
  {
   "cell_type": "code",
   "execution_count": null,
   "id": "ccf34937",
   "metadata": {},
   "outputs": [],
   "source": [
    "7. What happens if an existing file is opened in write mode?"
   ]
  },
  {
   "cell_type": "markdown",
   "id": "96eff2da",
   "metadata": {},
   "source": [
    "After the file is opened in write mode, ny data that is written to the file will overwrite the existing data. \n",
    "If the file does not exist,it will be created.\n",
    "\n",
    "\n",
    "file = open(\"example.txt\", \"w\")"
   ]
  },
  {
   "cell_type": "code",
   "execution_count": null,
   "id": "447675e7",
   "metadata": {},
   "outputs": [],
   "source": [
    "8.How do you tell the difference between read() and readlines() ?"
   ]
  },
  {
   "cell_type": "markdown",
   "id": "273ed26a",
   "metadata": {},
   "source": [
    "The main difference is that read() will read the whole file at once and then print out the first characters that \n",
    "take up as many bytes as you specify in the parenthesis\n",
    "\n",
    "Whereas the readline() that will read and print out only the first characters that take up as many bytes as you \n",
    "specify in the parenthesis.You may want to use readline() when you're reading files that are too big for your RAM.\n",
    "\n",
    "The read() would treat each character in the file separately, meaning that the iteration would happen for every \n",
    "character.\n",
    "\n",
    "The readline() function,on the other hand, only reads a single line of the file. This means that if the first line \n",
    "of the file were three lines long,the readline() function would only parse (or iterate/operate) on the first line \n",
    "of the file."
   ]
  },
  {
   "cell_type": "code",
   "execution_count": null,
   "id": "690d83d5",
   "metadata": {},
   "outputs": [],
   "source": [
    "9.What data structure does a shelf value resemble ?\n"
   ]
  },
  {
   "cell_type": "markdown",
   "id": "a55f6897",
   "metadata": {},
   "source": [
    "It contains key and values it represents dictionary.\n",
    "In Python,a shelf value resembles a dictionary-like \n",
    "object that persists its key-value pairs to disk, and the \n",
    "values can be any picklable object."
   ]
  }
 ],
 "metadata": {
  "kernelspec": {
   "display_name": "Python 3",
   "language": "python",
   "name": "python3"
  },
  "language_info": {
   "codemirror_mode": {
    "name": "ipython",
    "version": 3
   },
   "file_extension": ".py",
   "mimetype": "text/x-python",
   "name": "python",
   "nbconvert_exporter": "python",
   "pygments_lexer": "ipython3",
   "version": "3.8.8"
  }
 },
 "nbformat": 4,
 "nbformat_minor": 5
}

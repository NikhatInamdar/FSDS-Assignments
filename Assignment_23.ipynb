{
 "cells": [
  {
   "cell_type": "markdown",
   "id": "ce2b107d",
   "metadata": {},
   "source": [
    "# Q1. What is the result of the code, and why?\n",
    "def func(a, b=6, c=8):\n",
    "print(a, b, c)\n",
    "func(1, 2)"
   ]
  },
  {
   "cell_type": "code",
   "execution_count": 6,
   "id": "6b8c3f94",
   "metadata": {},
   "outputs": [
    {
     "name": "stdout",
     "output_type": "stream",
     "text": [
      "1 2 8\n"
     ]
    }
   ],
   "source": [
    "def func(a, b=6, c=8):\n",
    "    print(a, b, c)\n",
    "func(1, 2)"
   ]
  },
  {
   "cell_type": "markdown",
   "id": "3c303277",
   "metadata": {},
   "source": [
    "This is because the func() function is defined with three parameters: a, b, and c.The b and c parameters are given default values of 6 and 8, \n",
    "respectively. When the func() function is called with the arguments 1 and 2, these values are assigned to the a and b parameters, respectively.\n",
    "    \n",
    "Since no value is provided for c, it takes on its default value of 8.\n",
    "\n",
    "Thus, when the print() function is called within func(), it outputs the values of a, b, and c, which are 1, 2, and 8, respectively."
   ]
  },
  {
   "cell_type": "markdown",
   "id": "8300f4bd",
   "metadata": {},
   "source": [
    "# Q2 What is the result of this code, and why?\n",
    "def func(a, b, c=5):\n",
    "print(a, b, c)\n",
    "func(1, c=3, b=2)"
   ]
  },
  {
   "cell_type": "code",
   "execution_count": 3,
   "id": "28e7d75c",
   "metadata": {},
   "outputs": [
    {
     "name": "stdout",
     "output_type": "stream",
     "text": [
      "1 2 3\n"
     ]
    }
   ],
   "source": [
    "def func(a, b, c=5):\n",
    "    print(a, b, c)\n",
    "func(1, c=3, b=2)"
   ]
  },
  {
   "cell_type": "markdown",
   "id": "6d980936",
   "metadata": {},
   "source": [
    "The output of the code will be:\n",
    "\n",
    "1 2 3\n",
    "\n",
    "This is because the function func is defined with three parameters: a, b, and c.The parameter c has a default value of 5, \n",
    "so if it is not passed as an argument when calling the function, it will take on the value of 5.\n",
    "When func is called with func(1, c=3, b=2), the value of a is 1,the value of b is 2 (because it is passed as the second \n",
    "argument), and the value of c is 3 (because it is passed as the third argument and overrides the default value of 5).\n",
    "Therefore, the function will print 1 2 3.\n"
   ]
  },
  {
   "cell_type": "markdown",
   "id": "03c7bd28",
   "metadata": {},
   "source": [
    "# Q3.How about this code: what is its result, and why?\n",
    "def func(a, *pargs):\n",
    "print(a, pargs)\n",
    "func(1, 2, 3)"
   ]
  },
  {
   "cell_type": "code",
   "execution_count": 2,
   "id": "a395b265",
   "metadata": {},
   "outputs": [
    {
     "name": "stdout",
     "output_type": "stream",
     "text": [
      "1 (2, 3)\n"
     ]
    }
   ],
   "source": [
    "def func(a, *pargs):\n",
    "    print(a, pargs)\n",
    "func(1, 2, 3)"
   ]
  },
  {
   "cell_type": "markdown",
   "id": "440d3733",
   "metadata": {},
   "source": [
    "Here's what happens:\n",
    "\n",
    "The function func is defined with two parameters: a and *pargs.\n",
    "When the function is called with the arguments func(1, 2, 3), \n",
    "the value 1 is assigned to the parameter a, and the remaining \n",
    "arguments (2 and 3) are packed into a tuple and assigned to \n",
    "the parameter pargs.\n",
    "The print statement then outputs the value of a(which is 1)\n",
    "and the tuple pargs (which is (2, 3)).\n",
    "So the final output will be:\n",
    "1 (2, 3)"
   ]
  },
  {
   "cell_type": "markdown",
   "id": "7a9fece5",
   "metadata": {},
   "source": [
    "# Q4. What does this code print, and why?\n",
    "\n",
    ">>> def func(a, **kargs): print(a, kargs) >>> func(a=1, c=3, b=2)"
   ]
  },
  {
   "cell_type": "code",
   "execution_count": 3,
   "id": "f887928e",
   "metadata": {},
   "outputs": [
    {
     "name": "stdout",
     "output_type": "stream",
     "text": [
      "1 {'c': 3, 'b': 2}\n"
     ]
    }
   ],
   "source": [
    "def func(a, **kargs):\n",
    "    print(a, kargs)\n",
    "func(a=1, c=3, b=2)"
   ]
  },
  {
   "cell_type": "markdown",
   "id": "67678d42",
   "metadata": {},
   "source": [
    "The code will print the value of 'a' and a dictionary 'kargs' containing the keyword arguments passed to the function.\n",
    "The function func is defined with two parameters: a and **kargs.\n",
    "When the function is called with the arguments func(a=1, c=3, b=2), the value 1 is assigned to the parameter a,and the \n",
    "remaining keyword arguments (c=3 and b=2) are packed into a dictionary and assigned to the parameter kargs.\n",
    "The print statement then outputs the value of a (which is 1) and the dictionary kargs (which is {'c': 3, 'b': 2}).\n",
    "So the final output will be:1 {'c': 3, 'b': 2}"
   ]
  },
  {
   "cell_type": "markdown",
   "id": "1588343f",
   "metadata": {},
   "source": [
    "# Q4. What gets printed by this, and explain?\n",
    ">>> def func(a, b, c=8, d=5): print(a, b, c, d) >>> func(1, *(5, 6))"
   ]
  },
  {
   "cell_type": "code",
   "execution_count": 4,
   "id": "34d9b2f6",
   "metadata": {},
   "outputs": [
    {
     "name": "stdout",
     "output_type": "stream",
     "text": [
      "1 5 6 5\n"
     ]
    }
   ],
   "source": [
    "def func(a, b, c=8, d=5): \n",
    "    print(a, b, c, d)\n",
    "func(1, *(5, 6))"
   ]
  },
  {
   "cell_type": "markdown",
   "id": "89208905",
   "metadata": {},
   "source": [
    "The func function takes four arguments: a, b, c, and d.c and d have default values of 8 and 5, respectively.\n",
    "When func is called with the arguments 1, *(5, 6), the * operator is used to unpack the tuple (5, 6) into \n",
    "two separate positional arguments, 5 and 6. So the function call becomes:func(1, 5, 6)\n",
    "The value of a is set to 1, and the values of b, c, and d are set to 5, 6, and the default value of d,which \n",
    "is 5, respectively.\n",
    "The print statement then prints these four values, separated by spaces, which results in the output:1 5 6 5"
   ]
  },
  {
   "cell_type": "markdown",
   "id": "5c77f561",
   "metadata": {},
   "source": [
    "# Q5. what is the result of this, and explain?\n",
    ">>> def func(a, b, c): a = 2; b[0] = 'x'; c['a'] = 'y' >>> l=1; m=[1]; n={'a':0} >>> func(l, m, n)\n",
    ">>> l, m, n"
   ]
  },
  {
   "cell_type": "code",
   "execution_count": 5,
   "id": "e4308318",
   "metadata": {},
   "outputs": [
    {
     "data": {
      "text/plain": [
       "(1, ['x'], {'a': 'y'})"
      ]
     },
     "execution_count": 5,
     "metadata": {},
     "output_type": "execute_result"
    }
   ],
   "source": [
    "def func(a, b, c): \n",
    "    a = 2; b[0] = 'x'; c['a'] = 'y'\n",
    "    \n",
    "l=1; m=[1]; n={'a':0}\n",
    "func(l, m, n)\n",
    "\n",
    "l, m, n"
   ]
  },
  {
   "cell_type": "markdown",
   "id": "69704ff4",
   "metadata": {},
   "source": [
    "Here's why:\n",
    "\n",
    "The func function takes three arguments: a, b, and c.Inside the function,The value of a is set to 2,\n",
    "the first element of b is set to 'x', and the value associated with the key 'a' in the dictionary\n",
    "c is set to 'y'.\n",
    "When the function is called with the arguments l, m, and n, the value of l is passed by value, while \n",
    "the values of m and n are passed by reference.\n",
    "This means that when m and n are passed to func,ny changes made to them inside the function will be \n",
    "reflected outside the function as well. This is why, after calling func, the value of m has changed \n",
    "to ['x'], and the value associated with the key 'a' in the dictionary n has changed to 'y'.\n",
    "However, since l is passed by value, any changes made to it inside the function will not be reflected \n",
    "outside the function. This is why the value of l remains 1 after calling func.\n",
    "Finally, after the function call, the values of l, m, and n are printed, which results in the output:\n",
    "(1, ['x'], {'a': 'y'})"
   ]
  },
  {
   "cell_type": "code",
   "execution_count": null,
   "id": "440c142b",
   "metadata": {},
   "outputs": [],
   "source": []
  }
 ],
 "metadata": {
  "kernelspec": {
   "display_name": "Python 3",
   "language": "python",
   "name": "python3"
  },
  "language_info": {
   "codemirror_mode": {
    "name": "ipython",
    "version": 3
   },
   "file_extension": ".py",
   "mimetype": "text/x-python",
   "name": "python",
   "nbconvert_exporter": "python",
   "pygments_lexer": "ipython3",
   "version": "3.8.8"
  }
 },
 "nbformat": 4,
 "nbformat_minor": 5
}

{
 "cells": [
  {
   "cell_type": "markdown",
   "id": "3e34270e",
   "metadata": {},
   "source": [
    "1.Write a Python Program to Check if a Number is Positive, Negative or Zero?"
   ]
  },
  {
   "cell_type": "code",
   "execution_count": 7,
   "id": "42f3e67a",
   "metadata": {},
   "outputs": [
    {
     "name": "stdout",
     "output_type": "stream",
     "text": [
      "Enter a number:  1\n",
      "number is positive:\n"
     ]
    }
   ],
   "source": [
    "num = float(input(\"Enter a number:  \"))\n",
    "if num > 0:\n",
    "    print(\"number is positive:\")\n",
    "elif num == 0:\n",
    "    print(\"Zero\")\n",
    "else:\n",
    "    print(\"Negative Number\")"
   ]
  },
  {
   "cell_type": "markdown",
   "id": "eb15dbde",
   "metadata": {},
   "source": [
    "2.Write a Python Program to Check if a Number is Odd or Even?"
   ]
  },
  {
   "cell_type": "code",
   "execution_count": 1,
   "id": "7a1fcb1d",
   "metadata": {},
   "outputs": [
    {
     "name": "stdout",
     "output_type": "stream",
     "text": [
      "Enter a number: 20\n",
      "20 is Even\n"
     ]
    }
   ],
   "source": [
    "# Even\n",
    "num = int(input(\"Enter a number: \"))\n",
    "if (num % 2) == 0:\n",
    "    print(\"{0} is Even\".format(num))\n",
    "else:\n",
    "    print(\"{0} is Odd\".format(num))"
   ]
  },
  {
   "cell_type": "code",
   "execution_count": 7,
   "id": "7f293a01",
   "metadata": {},
   "outputs": [
    {
     "name": "stdout",
     "output_type": "stream",
     "text": [
      "Enter a number: 71\n",
      "number is odd: \n"
     ]
    }
   ],
   "source": [
    "#odd\n",
    "num = int(input(\"Enter a number: \"))\n",
    "if (num % 2) == 0:\n",
    "    print(f\"number is even:\")\n",
    "else:\n",
    "    print(f\"number is odd: \")"
   ]
  },
  {
   "cell_type": "markdown",
   "id": "dd4cd8fd",
   "metadata": {},
   "source": [
    "3.Write a Python Program to Check Leap Year?"
   ]
  },
  {
   "cell_type": "code",
   "execution_count": 2,
   "id": "4d685b18",
   "metadata": {},
   "outputs": [
    {
     "name": "stdout",
     "output_type": "stream",
     "text": [
      "Enter year: 2020\n",
      "2020 is a Leap year\n"
     ]
    }
   ],
   "source": [
    "def checkYear(year):\n",
    "    if (year%4 == 0 and year%100 != 0 or year%400 == 0):\n",
    "        print(f'{year} is a Leap year')\n",
    "    else:\n",
    "        print(f'{year} is not a Leap year')\n",
    "\n",
    "year = int(input(\"Enter year: \"))\n",
    "checkYear(year)"
   ]
  },
  {
   "cell_type": "markdown",
   "id": "f5bb482b",
   "metadata": {},
   "source": [
    "4.Write a Python Program to Check Prime Number?"
   ]
  },
  {
   "cell_type": "code",
   "execution_count": 10,
   "id": "b6ff88cf",
   "metadata": {},
   "outputs": [
    {
     "name": "stdout",
     "output_type": "stream",
     "text": [
      "Enter a number: 41\n",
      "41 is a prime number\n"
     ]
    }
   ],
   "source": [
    "def isPrime(num):\n",
    "    flag = False\n",
    "    for i in range(2,num):\n",
    "        if num%i ==0:\n",
    "            flag= True\n",
    "            break\n",
    "    if(not flag):\n",
    "        print(f'{num} is a prime number')\n",
    "    else:\n",
    "        print(f'{num} is not a prime number')\n",
    "        \n",
    "number = int(input(\"Enter a number: \"))\n",
    "isPrime(number)"
   ]
  },
  {
   "cell_type": "markdown",
   "id": "c4f8ad46",
   "metadata": {},
   "source": [
    "5. Write a Python Program to Print all Prime Numbers in an Interval of 1-10000?"
   ]
  },
  {
   "cell_type": "code",
   "execution_count": 14,
   "id": "7643632a",
   "metadata": {},
   "outputs": [
    {
     "name": "stdout",
     "output_type": "stream",
     "text": [
      "[1, 2, 3, 5, 7, 11, 13, 17, 19, 23, 29, 31, 37, 41, 43, 47, 53, 59, 61, 67, 71, 73, 79, 83, 89, 97, 101, 103, 107, 109, 113, 127, 131, 137, 139, 149, 151, 157, 163, 167, 173, 179, 181, 191, 193, 197, 199, 211, 223, 227, 229, 233, 239, 241, 251, 257, 263, 269, 271, 277, 281, 283, 293, 307, 311, 313, 317, 331, 337, 347, 349, 353, 359, 367, 373, 379, 383, 389, 397, 401, 409, 419, 421, 431, 433, 439, 443, 449, 457, 461, 463, 467, 479, 487, 491, 499, 503, 509, 521, 523, 541, 547, 557, 563, 569, 571, 577, 587, 593, 599, 601, 607, 613, 617, 619, 631, 641, 643, 647, 653, 659, 661, 673, 677, 683, 691, 701, 709, 719, 727, 733, 739, 743, 751, 757, 761, 769, 773, 787, 797, 809, 811, 821, 823, 827, 829, 839, 853, 857, 859, 863, 877, 881, 883, 887, 907, 911, 919, 929, 937, 941, 947, 953, 967, 971, 977, 983, 991, 997]\n"
     ]
    }
   ],
   "source": [
    "primeNumbersList = []\n",
    "\n",
    "def generatePrimeNumbers():\n",
    "    for x in range(1,1000):\n",
    "        flag=False\n",
    "        for y in range(2,x):\n",
    "            if (x%y ==0):\n",
    "                flag = True\n",
    "                break\n",
    "        if (not flag):\n",
    "            primeNumbersList.append(x)\n",
    "        \n",
    "generatePrimeNumbers()\n",
    "print(primeNumbersList)"
   ]
  },
  {
   "cell_type": "code",
   "execution_count": null,
   "id": "d953de47",
   "metadata": {},
   "outputs": [],
   "source": [
    "******************************************************************************************************"
   ]
  }
 ],
 "metadata": {
  "kernelspec": {
   "display_name": "Python 3",
   "language": "python",
   "name": "python3"
  },
  "language_info": {
   "codemirror_mode": {
    "name": "ipython",
    "version": 3
   },
   "file_extension": ".py",
   "mimetype": "text/x-python",
   "name": "python",
   "nbconvert_exporter": "python",
   "pygments_lexer": "ipython3",
   "version": "3.8.8"
  }
 },
 "nbformat": 4,
 "nbformat_minor": 5
}

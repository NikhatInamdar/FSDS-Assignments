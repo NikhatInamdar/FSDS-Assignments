{
 "cells": [
  {
   "cell_type": "code",
   "execution_count": null,
   "id": "ac305483",
   "metadata": {},
   "outputs": [],
   "source": [
    "1. What exactly is []?"
   ]
  },
  {
   "cell_type": "code",
   "execution_count": null,
   "id": "3a78423e",
   "metadata": {},
   "outputs": [],
   "source": [
    "Answer:-\n",
    "[] is a list\n",
    "The empty list value, which is a list value that contains no items."
   ]
  },
  {
   "cell_type": "markdown",
   "id": "15e2a72f",
   "metadata": {},
   "source": [
    "2. In a list of values stored in a variable called spam, how would you assign the value &#39;hello&#39; as the\n",
    "third value? (Assume [2, 4, 6, 8, 10] are in spam.)"
   ]
  },
  {
   "cell_type": "code",
   "execution_count": 5,
   "id": "d14904d4",
   "metadata": {},
   "outputs": [
    {
     "name": "stdout",
     "output_type": "stream",
     "text": [
      "[2, 4, 6, 8, 10]\n",
      "[2, 4, 6, 'hello', 10]\n"
     ]
    }
   ],
   "source": [
    "spam = [2,4,6,8,10]\n",
    "print(spam)\n",
    "spam[3] = \"hello\"\n",
    "print(spam)"
   ]
  },
  {
   "cell_type": "markdown",
   "id": "c7381c41",
   "metadata": {},
   "source": [
    "Lets prestend the spam includes the list[a,b,c,d]for the next three queried"
   ]
  },
  {
   "cell_type": "markdown",
   "id": "d49fcf66",
   "metadata": {},
   "source": [
    "3. What is the value of spam[int(int('3' * 2) / 11)]?"
   ]
  },
  {
   "cell_type": "code",
   "execution_count": null,
   "id": "b8f192ae",
   "metadata": {},
   "outputs": [],
   "source": [
    "(Note that '3' * 2 is the string '33', which is passed to int() \n",
    "before being divided by 11. This eventually evaluates to 3,spam[3] \n",
    "is equal to d.)"
   ]
  },
  {
   "cell_type": "code",
   "execution_count": 10,
   "id": "f047c994",
   "metadata": {},
   "outputs": [
    {
     "data": {
      "text/plain": [
       "'d'"
      ]
     },
     "execution_count": 10,
     "metadata": {},
     "output_type": "execute_result"
    }
   ],
   "source": [
    "spam=['a','b','c','d']\n",
    "spam[int(int('3' * 2) / 11)]"
   ]
  },
  {
   "cell_type": "markdown",
   "id": "1536fdd5",
   "metadata": {},
   "source": [
    "4. What is the value of spam[-1]?"
   ]
  },
  {
   "cell_type": "markdown",
   "id": "0f71ed34",
   "metadata": {},
   "source": [
    "list supports negative indexing,Hence spam[-1] return d\n"
   ]
  },
  {
   "cell_type": "code",
   "execution_count": 15,
   "id": "7f62da4c",
   "metadata": {},
   "outputs": [
    {
     "name": "stdout",
     "output_type": "stream",
     "text": [
      "spam[-1] :  d\n"
     ]
    }
   ],
   "source": [
    "spam=['a','b','c','d']\n",
    "print('spam[-1] : ',spam[-1])"
   ]
  },
  {
   "cell_type": "markdown",
   "id": "3f15742b",
   "metadata": {},
   "source": [
    "5. What is the value of spam[:2]?"
   ]
  },
  {
   "cell_type": "markdown",
   "id": "2161ba8d",
   "metadata": {},
   "source": [
    "spam[:2] returns all elements in the list spam from \n",
    "0 to 2 excluding 2"
   ]
  },
  {
   "cell_type": "code",
   "execution_count": 18,
   "id": "1c84879a",
   "metadata": {},
   "outputs": [
    {
     "data": {
      "text/plain": [
       "['a', 'b']"
      ]
     },
     "execution_count": 18,
     "metadata": {},
     "output_type": "execute_result"
    }
   ],
   "source": [
    "spam=['a','b','c','d']\n",
    "spam[:2]"
   ]
  },
  {
   "cell_type": "markdown",
   "id": "c6ddae39",
   "metadata": {},
   "source": [
    "Let's pretend bacon has the list [3.14,'cat',11,'cat',True] for the next three question"
   ]
  },
  {
   "cell_type": "code",
   "execution_count": null,
   "id": "f9c49ac8",
   "metadata": {},
   "outputs": [],
   "source": [
    "6:-"
   ]
  },
  {
   "cell_type": "code",
   "execution_count": null,
   "id": "88a47c46",
   "metadata": {},
   "outputs": [],
   "source": [
    "The value of bacon.index('cat') is 1 (Note: index method returns the index of first occuerence of 'cat')"
   ]
  },
  {
   "cell_type": "code",
   "execution_count": 24,
   "id": "0a41cf42",
   "metadata": {},
   "outputs": [
    {
     "name": "stdout",
     "output_type": "stream",
     "text": [
      "bacon.index('cat') -> 1\n"
     ]
    }
   ],
   "source": [
    "bacon =[3.14, 'cat',11,'cat',True]\n",
    "print(\"bacon.index('cat') ->\",bacon.index('cat'))"
   ]
  },
  {
   "cell_type": "markdown",
   "id": "ff82a8c0",
   "metadata": {},
   "source": [
    "7. How does bacon.append(99) change the look of the list value in bacon?"
   ]
  },
  {
   "cell_type": "code",
   "execution_count": 25,
   "id": "03b6e471",
   "metadata": {},
   "outputs": [
    {
     "name": "stdout",
     "output_type": "stream",
     "text": [
      "[3.14, 'cat', 11, 'cat', True]\n",
      "[3.14, 'cat', 11, 'cat', True, 99]\n"
     ]
    }
   ],
   "source": [
    "print(bacon)\n",
    "bacon.append(99)\n",
    "print(bacon)"
   ]
  },
  {
   "cell_type": "markdown",
   "id": "9d3ee72c",
   "metadata": {},
   "source": [
    "8. How does bacon.remove('cat') change the look of the list in bacon?"
   ]
  },
  {
   "cell_type": "markdown",
   "id": "eec6a2cf",
   "metadata": {},
   "source": [
    "The remove method removes the first occurence of the element in the list"
   ]
  },
  {
   "cell_type": "code",
   "execution_count": 27,
   "id": "74681eec",
   "metadata": {},
   "outputs": [
    {
     "name": "stdout",
     "output_type": "stream",
     "text": [
      "[3.14, 11, 'cat', True, 99]\n",
      "[3.14, 11, True, 99]\n"
     ]
    }
   ],
   "source": [
    "print(bacon)\n",
    "bacon.remove('cat')\n",
    "print(bacon)"
   ]
  },
  {
   "cell_type": "markdown",
   "id": "65f237f4",
   "metadata": {},
   "source": [
    "9. What are the list concatenation and list replication operators?"
   ]
  },
  {
   "cell_type": "code",
   "execution_count": null,
   "id": "b7f8e5e7",
   "metadata": {},
   "outputs": [],
   "source": [
    "The operator for list concatenation is +, \n",
    "while the operator for replication is *."
   ]
  },
  {
   "cell_type": "code",
   "execution_count": 33,
   "id": "3979a4bc",
   "metadata": {},
   "outputs": [
    {
     "name": "stdout",
     "output_type": "stream",
     "text": [
      "['Python', 'ineuron', 'ML', 3.14, True]\n",
      "['ML', 3.14, True, 'ML', 3.14, True]\n"
     ]
    }
   ],
   "source": [
    "l1 = [\"Python\",\"ineuron\"]\n",
    "l2 = [\"ML\",3.14,True]\n",
    "print(l1 + l2)   # concatination\n",
    "print(list_2*2)  # list replication"
   ]
  },
  {
   "cell_type": "markdown",
   "id": "dae96fb4",
   "metadata": {},
   "source": [
    "10. What is difference between the list methods append() and insert()?"
   ]
  },
  {
   "cell_type": "code",
   "execution_count": null,
   "id": "b091ac09",
   "metadata": {},
   "outputs": [],
   "source": [
    "The difference between the two methods is that\n",
    "append() adds an item to the end of a list, \n",
    "where as insert() inserts an item in a specified \n",
    "position in the list."
   ]
  },
  {
   "cell_type": "code",
   "execution_count": 36,
   "id": "22c6ea73",
   "metadata": {},
   "outputs": [
    {
     "name": "stdout",
     "output_type": "stream",
     "text": [
      "[1, 3, 5, 6, 99]\n",
      "['Nikhat', 1, 3, 5, 6, 99]\n"
     ]
    }
   ],
   "source": [
    "#For Example:\n",
    "list = [1,3,5,6]\n",
    "list.append(99)\n",
    "print(list)\n",
    "\n",
    "list.insert(0,'Nikhat')\n",
    "print(list)"
   ]
  },
  {
   "cell_type": "markdown",
   "id": "858d6196",
   "metadata": {},
   "source": [
    "11. What are the two methods for removing items from a list?"
   ]
  },
  {
   "cell_type": "markdown",
   "id": "0e77743a",
   "metadata": {},
   "source": [
    "The del statement and the remove() method are two ways to remove values from a list"
   ]
  },
  {
   "cell_type": "markdown",
   "id": "693a01ab",
   "metadata": {},
   "source": [
    "12. Describe how list values and string values are identical."
   ]
  },
  {
   "cell_type": "code",
   "execution_count": null,
   "id": "0585fcba",
   "metadata": {},
   "outputs": [],
   "source": [
    "Both strings and lists have lengths: \n",
    "a string length is the number of characters \n",
    "in the string.\n",
    "a list length is the number of items in the \n",
    "list.Each character in a string\n",
    "as well as each item in a list has a position,\n",
    "also called an index."
   ]
  },
  {
   "cell_type": "markdown",
   "id": "32cc4361",
   "metadata": {},
   "source": [
    "13. What is the difference between tuples and lists?"
   ]
  },
  {
   "cell_type": "code",
   "execution_count": null,
   "id": "b4e92219",
   "metadata": {},
   "outputs": [],
   "source": [
    "list\n",
    "List are mutable\n",
    "Iterations are time-consuming\n",
    "Inserting and deleting items is easier with a list.\n",
    "Lists consume more memory\n",
    "Lists have several built-in methods.\n",
    "A unexpected change or error is more likely to occur in a list.\n",
    "\n",
    "for example:-\n",
    "list = [1,2,3,True,\"ineuron\",3.14,10]\n",
    "print(list)\n",
    "\n",
    "\n",
    "# TUPLE\n",
    "Tuples are immutable\n",
    "Iterations are comparatively Faster\n",
    "Accessing the elements is best accomplished with a tuple data type.\n",
    "Tuple consumes less than the list\n",
    "A tuple does not have many built-in methods bescuse of immutablility\n",
    "In a tuple, changes and errors dont usually occur beacuse of immutability.\n",
    "\n",
    "tuple= (\"ineuron\",\"Python\",\"Machine learning\")\n",
    "print(tuple)\n",
    "\n"
   ]
  },
  {
   "cell_type": "markdown",
   "id": "54242244",
   "metadata": {},
   "source": [
    "14. How do you type a tuple value that only contains the integer 42?"
   ]
  },
  {
   "cell_type": "code",
   "execution_count": 39,
   "id": "0cb8298b",
   "metadata": {},
   "outputs": [
    {
     "name": "stdout",
     "output_type": "stream",
     "text": [
      "<class 'tuple'>\n"
     ]
    }
   ],
   "source": [
    "tuple = (42,) # comma is mendatory \n",
    "print(type(tuple))"
   ]
  },
  {
   "cell_type": "code",
   "execution_count": null,
   "id": "aaa32abd",
   "metadata": {},
   "outputs": [],
   "source": [
    "15 How do you get a list value 39 tuple form? How do you get a tuple value 39 list form?"
   ]
  },
  {
   "cell_type": "code",
   "execution_count": 1,
   "id": "0ef9fa88",
   "metadata": {},
   "outputs": [
    {
     "name": "stdout",
     "output_type": "stream",
     "text": [
      "(39,)\n"
     ]
    }
   ],
   "source": [
    "# tuple form\n",
    "my_list = [39]\n",
    "my_tuple= tuple(my_list)\n",
    "print(my_tuple)"
   ]
  },
  {
   "cell_type": "code",
   "execution_count": 3,
   "id": "ec3e2c85",
   "metadata": {},
   "outputs": [
    {
     "name": "stdout",
     "output_type": "stream",
     "text": [
      "<class 'list'>\n",
      "[39]\n"
     ]
    }
   ],
   "source": [
    "# list form \n",
    "t= (39,)\n",
    "l1 = list(t)\n",
    "print(type(l1))\n",
    "print(l1)"
   ]
  },
  {
   "cell_type": "markdown",
   "id": "b8f1fb90",
   "metadata": {},
   "source": [
    "16. Variables that &quot;contain&quot; list values are not necessarily lists themselves. Instead, what do they\n",
    "contain?"
   ]
  },
  {
   "cell_type": "code",
   "execution_count": null,
   "id": "70647445",
   "metadata": {},
   "outputs": [],
   "source": [
    "Variables will contain references to list values rather than list values \n",
    "themselves. But for strings and integer values, variables simply contain \n",
    "the string or integer value."
   ]
  },
  {
   "cell_type": "markdown",
   "id": "da17b982",
   "metadata": {},
   "source": [
    "17. How do you distinguish between copy.copy() and copy.deepcopy()?"
   ]
  },
  {
   "cell_type": "code",
   "execution_count": null,
   "id": "f95f898b",
   "metadata": {},
   "outputs": [],
   "source": [
    "The copy.copy() function will do a shallow copy of a list,\n",
    "while the copy.deepcopy() function will do a deep copy of \n",
    "a list. That is, only copy.deepcopy() will duplicate any \n",
    "lists inside the list."
   ]
  },
  {
   "cell_type": "code",
   "execution_count": null,
   "id": "91a81621",
   "metadata": {},
   "outputs": [],
   "source": [
    "******************************END******************************"
   ]
  }
 ],
 "metadata": {
  "kernelspec": {
   "display_name": "Python 3",
   "language": "python",
   "name": "python3"
  },
  "language_info": {
   "codemirror_mode": {
    "name": "ipython",
    "version": 3
   },
   "file_extension": ".py",
   "mimetype": "text/x-python",
   "name": "python",
   "nbconvert_exporter": "python",
   "pygments_lexer": "ipython3",
   "version": "3.8.8"
  }
 },
 "nbformat": 4,
 "nbformat_minor": 5
}

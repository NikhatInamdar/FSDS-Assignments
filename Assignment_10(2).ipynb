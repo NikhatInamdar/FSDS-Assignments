{
 "cells": [
  {
   "cell_type": "markdown",
   "id": "2488006a",
   "metadata": {},
   "source": [
    "1. How do you distinguish between shutil.copy() and shutil.copytree()?"
   ]
  },
  {
   "cell_type": "markdown",
   "id": "e8a4a1a0",
   "metadata": {},
   "source": [
    "Answer:-\n",
    "shutil.copy : Copies a single file\n",
    "    \n",
    "shutil.copytree() : will copy an entire folder and every folder and file contained in it"
   ]
  },
  {
   "cell_type": "code",
   "execution_count": null,
   "id": "a6e240ce",
   "metadata": {},
   "outputs": [],
   "source": [
    "2. What function is used to rename files??"
   ]
  },
  {
   "cell_type": "markdown",
   "id": "802a14af",
   "metadata": {},
   "source": [
    "Answer:-\n",
    "rename() method\n",
    "To rename files in Python,use the rename() method of the os module."
   ]
  },
  {
   "cell_type": "markdown",
   "id": "b785ad5f",
   "metadata": {},
   "source": [
    "3. What is the difference between the delete functions in the send2trash and shutil modules?"
   ]
  },
  {
   "cell_type": "code",
   "execution_count": null,
   "id": "51c7db08",
   "metadata": {},
   "outputs": [],
   "source": [
    "import shutil\n",
    "shutil.retree():The shutil module’s rmtree() function can be used to delete \n",
    "files or folders.But, this function delete the files permanently.The operations\n",
    "cannot be undone if there were any accidental deletions performed.\n",
    "\n",
    "import send2trash\n",
    "\n",
    "send2trash.send2trash() : Using send2trash, we can send files to the Trash or \n",
    "Recycle Bin instead of permanently deleting them. \n",
    "\n",
    "If the directory contains files or other folders,those are also deleted. \n",
    "A TrashPermissionError exception is raised, in case a file could not be\n",
    "deleted due to permission error or any other unexpected reason."
   ]
  },
  {
   "cell_type": "code",
   "execution_count": null,
   "id": "a9dd7245",
   "metadata": {},
   "outputs": [],
   "source": [
    "import shutil\n",
    "import send2trash\n",
    "shutil.rmtree(\"path\")\n",
    "send2trash.send2trash(\"path\")"
   ]
  },
  {
   "cell_type": "markdown",
   "id": "97644643",
   "metadata": {},
   "source": [
    "4.ZipFile objects have a close() method just like File objects’ close() method. What ZipFile method is\n",
    "equivalent to File objects’ open() method?"
   ]
  },
  {
   "cell_type": "code",
   "execution_count": null,
   "id": "ff5ae37d",
   "metadata": {},
   "outputs": [],
   "source": [
    "Answer:-The zipfile. ZipFile() function is equivalent to the open() \n",
    "functionthe first argument is the filename, and the second argument\n",
    "is the mode to open the ZIP file in (read, write, or append)."
   ]
  },
  {
   "cell_type": "code",
   "execution_count": null,
   "id": "fca2fa7f",
   "metadata": {},
   "outputs": [],
   "source": [
    "from zipfile import Zipfile\n",
    "with ZipFile(file_name, 'r') as zip: -> this code will open specified zipfile for us.\n",
    "we can use zip object to preform other operation the ziplife. like zip.read()\n",
    "\n",
    "\n",
    "from zipfile import Zipfile\n",
    "with ZipFile(file_name, 'r') as zip"
   ]
  },
  {
   "cell_type": "markdown",
   "id": "4e3fe729",
   "metadata": {},
   "source": [
    "5. Create a programme that searches a folder tree for files with a certain file extension (such as .pdf\n",
    "or .jpg). Copy these files from whatever location they are in to a new folder."
   ]
  },
  {
   "cell_type": "markdown",
   "id": "b96572b0",
   "metadata": {},
   "source": [
    "import os, shutil\n",
    "\n",
    "def selectiveCopy(source, extensions, destination):\n",
    "    \n",
    "    folder = os.path.abspath(source)\n",
    "    \n",
    "    destination = os.path.abspath(destination)\n",
    "    \n",
    "    print('Looking in', source, 'for files with extensions of', ', '.join(extensions))\n",
    "    \n",
    "    for foldername, subfolders, filenames in os.walk(source):\n",
    "        for filename in filenames:\n",
    "            name, extension = os.path.splitext(filename)\n",
    "            if extension in extensions:\n",
    "                fileAbsPath = foldername + os.path.sep + filename\n",
    "                print('Coping', fileAbsPath, 'to', destination)\n",
    "                shutil.copy(fileAbsPath, destination)\n",
    "\n",
    "extensions = ['.mp4', '.pdf','.jpg']\n",
    "source = \"C:\\Users\\Nikhat\\Desktop\"\n",
    "destination = \"C:\\Users\\Nikhat\\Desktop\\abc\"\n",
    "selectiveCopy(source, extensions, destination)"
   ]
  },
  {
   "cell_type": "code",
   "execution_count": null,
   "id": "115241e1",
   "metadata": {},
   "outputs": [],
   "source": [
    "********************************************************************************************************************"
   ]
  },
  {
   "cell_type": "code",
   "execution_count": null,
   "id": "1caeecf7",
   "metadata": {},
   "outputs": [],
   "source": []
  },
  {
   "cell_type": "code",
   "execution_count": null,
   "id": "e86056f3",
   "metadata": {},
   "outputs": [],
   "source": []
  },
  {
   "cell_type": "code",
   "execution_count": null,
   "id": "265f5760",
   "metadata": {},
   "outputs": [],
   "source": []
  }
 ],
 "metadata": {
  "kernelspec": {
   "display_name": "Python 3",
   "language": "python",
   "name": "python3"
  },
  "language_info": {
   "codemirror_mode": {
    "name": "ipython",
    "version": 3
   },
   "file_extension": ".py",
   "mimetype": "text/x-python",
   "name": "python",
   "nbconvert_exporter": "python",
   "pygments_lexer": "ipython3",
   "version": "3.8.8"
  }
 },
 "nbformat": 4,
 "nbformat_minor": 5
}
